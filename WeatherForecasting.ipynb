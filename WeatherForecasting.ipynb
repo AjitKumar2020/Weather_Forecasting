{
 "cells": [
  {
   "cell_type": "code",
   "execution_count": 1,
   "metadata": {},
   "outputs": [
    {
     "name": "stderr",
     "output_type": "stream",
     "text": [
      "2023-03-28 00:22:42.396339: I tensorflow/core/platform/cpu_feature_guard.cc:193] This TensorFlow binary is optimized with oneAPI Deep Neural Network Library (oneDNN) to use the following CPU instructions in performance-critical operations:  AVX2 FMA\n",
      "To enable them in other operations, rebuild TensorFlow with the appropriate compiler flags.\n"
     ]
    }
   ],
   "source": [
    "import pandas as pd\n",
    "import seaborn as sn\n",
    "from sklearn.preprocessing import LabelEncoder, OneHotEncoder,MinMaxScaler\n",
    "from keras.models import Sequential \n",
    "from keras.layers import Dense \n",
    "from keras.layers import LSTM,Activation,Dropout\n",
    "from sklearn.metrics import mean_squared_error"
   ]
  },
  {
   "cell_type": "code",
   "execution_count": 2,
   "metadata": {},
   "outputs": [],
   "source": [
    "from matplotlib import pyplot\n",
    "import numpy as np"
   ]
  },
  {
   "cell_type": "code",
   "execution_count": 3,
   "metadata": {},
   "outputs": [],
   "source": [
    "df=pd.read_csv(\"weatherHistory.csv\")"
   ]
  },
  {
   "cell_type": "code",
   "execution_count": 4,
   "metadata": {},
   "outputs": [
    {
     "name": "stdout",
     "output_type": "stream",
     "text": [
      "<class 'pandas.core.frame.DataFrame'>\n",
      "RangeIndex: 96453 entries, 0 to 96452\n",
      "Data columns (total 12 columns):\n",
      " #   Column                    Non-Null Count  Dtype  \n",
      "---  ------                    --------------  -----  \n",
      " 0   Formatted Date            96453 non-null  object \n",
      " 1   Summary                   96453 non-null  object \n",
      " 2   Precip Type               95936 non-null  object \n",
      " 3   Temperature (C)           96453 non-null  float64\n",
      " 4   Apparent Temperature (C)  96453 non-null  float64\n",
      " 5   Humidity                  96453 non-null  float64\n",
      " 6   Wind Speed (km/h)         96453 non-null  float64\n",
      " 7   Wind Bearing (degrees)    96453 non-null  int64  \n",
      " 8   Visibility (km)           96453 non-null  float64\n",
      " 9   Loud Cover                96453 non-null  int64  \n",
      " 10  Pressure (millibars)      96453 non-null  float64\n",
      " 11  Daily Summary             96453 non-null  object \n",
      "dtypes: float64(6), int64(2), object(4)\n",
      "memory usage: 8.8+ MB\n"
     ]
    }
   ],
   "source": [
    "df.info()"
   ]
  },
  {
   "cell_type": "code",
   "execution_count": 5,
   "metadata": {},
   "outputs": [
    {
     "data": {
      "text/html": [
       "<div>\n",
       "<style scoped>\n",
       "    .dataframe tbody tr th:only-of-type {\n",
       "        vertical-align: middle;\n",
       "    }\n",
       "\n",
       "    .dataframe tbody tr th {\n",
       "        vertical-align: top;\n",
       "    }\n",
       "\n",
       "    .dataframe thead th {\n",
       "        text-align: right;\n",
       "    }\n",
       "</style>\n",
       "<table border=\"1\" class=\"dataframe\">\n",
       "  <thead>\n",
       "    <tr style=\"text-align: right;\">\n",
       "      <th></th>\n",
       "      <th>Formatted Date</th>\n",
       "      <th>Summary</th>\n",
       "      <th>Precip Type</th>\n",
       "      <th>Temperature (C)</th>\n",
       "      <th>Apparent Temperature (C)</th>\n",
       "      <th>Humidity</th>\n",
       "      <th>Wind Speed (km/h)</th>\n",
       "      <th>Wind Bearing (degrees)</th>\n",
       "      <th>Visibility (km)</th>\n",
       "      <th>Loud Cover</th>\n",
       "      <th>Pressure (millibars)</th>\n",
       "      <th>Daily Summary</th>\n",
       "    </tr>\n",
       "  </thead>\n",
       "  <tbody>\n",
       "    <tr>\n",
       "      <th>0</th>\n",
       "      <td>2006-04-01 00:00:00.000 +0200</td>\n",
       "      <td>Partly Cloudy</td>\n",
       "      <td>rain</td>\n",
       "      <td>9.472222</td>\n",
       "      <td>7.388889</td>\n",
       "      <td>0.89</td>\n",
       "      <td>14.1197</td>\n",
       "      <td>251</td>\n",
       "      <td>15.8263</td>\n",
       "      <td>0</td>\n",
       "      <td>1015.13</td>\n",
       "      <td>Partly cloudy throughout the day.</td>\n",
       "    </tr>\n",
       "    <tr>\n",
       "      <th>1</th>\n",
       "      <td>2006-04-01 01:00:00.000 +0200</td>\n",
       "      <td>Partly Cloudy</td>\n",
       "      <td>rain</td>\n",
       "      <td>9.355556</td>\n",
       "      <td>7.227778</td>\n",
       "      <td>0.86</td>\n",
       "      <td>14.2646</td>\n",
       "      <td>259</td>\n",
       "      <td>15.8263</td>\n",
       "      <td>0</td>\n",
       "      <td>1015.63</td>\n",
       "      <td>Partly cloudy throughout the day.</td>\n",
       "    </tr>\n",
       "    <tr>\n",
       "      <th>2</th>\n",
       "      <td>2006-04-01 02:00:00.000 +0200</td>\n",
       "      <td>Mostly Cloudy</td>\n",
       "      <td>rain</td>\n",
       "      <td>9.377778</td>\n",
       "      <td>9.377778</td>\n",
       "      <td>0.89</td>\n",
       "      <td>3.9284</td>\n",
       "      <td>204</td>\n",
       "      <td>14.9569</td>\n",
       "      <td>0</td>\n",
       "      <td>1015.94</td>\n",
       "      <td>Partly cloudy throughout the day.</td>\n",
       "    </tr>\n",
       "    <tr>\n",
       "      <th>3</th>\n",
       "      <td>2006-04-01 03:00:00.000 +0200</td>\n",
       "      <td>Partly Cloudy</td>\n",
       "      <td>rain</td>\n",
       "      <td>8.288889</td>\n",
       "      <td>5.944444</td>\n",
       "      <td>0.83</td>\n",
       "      <td>14.1036</td>\n",
       "      <td>269</td>\n",
       "      <td>15.8263</td>\n",
       "      <td>0</td>\n",
       "      <td>1016.41</td>\n",
       "      <td>Partly cloudy throughout the day.</td>\n",
       "    </tr>\n",
       "    <tr>\n",
       "      <th>4</th>\n",
       "      <td>2006-04-01 04:00:00.000 +0200</td>\n",
       "      <td>Mostly Cloudy</td>\n",
       "      <td>rain</td>\n",
       "      <td>8.755556</td>\n",
       "      <td>6.977778</td>\n",
       "      <td>0.83</td>\n",
       "      <td>11.0446</td>\n",
       "      <td>259</td>\n",
       "      <td>15.8263</td>\n",
       "      <td>0</td>\n",
       "      <td>1016.51</td>\n",
       "      <td>Partly cloudy throughout the day.</td>\n",
       "    </tr>\n",
       "  </tbody>\n",
       "</table>\n",
       "</div>"
      ],
      "text/plain": [
       "                  Formatted Date        Summary Precip Type  Temperature (C)  \\\n",
       "0  2006-04-01 00:00:00.000 +0200  Partly Cloudy        rain         9.472222   \n",
       "1  2006-04-01 01:00:00.000 +0200  Partly Cloudy        rain         9.355556   \n",
       "2  2006-04-01 02:00:00.000 +0200  Mostly Cloudy        rain         9.377778   \n",
       "3  2006-04-01 03:00:00.000 +0200  Partly Cloudy        rain         8.288889   \n",
       "4  2006-04-01 04:00:00.000 +0200  Mostly Cloudy        rain         8.755556   \n",
       "\n",
       "   Apparent Temperature (C)  Humidity  Wind Speed (km/h)  \\\n",
       "0                  7.388889      0.89            14.1197   \n",
       "1                  7.227778      0.86            14.2646   \n",
       "2                  9.377778      0.89             3.9284   \n",
       "3                  5.944444      0.83            14.1036   \n",
       "4                  6.977778      0.83            11.0446   \n",
       "\n",
       "   Wind Bearing (degrees)  Visibility (km)  Loud Cover  Pressure (millibars)  \\\n",
       "0                     251          15.8263           0               1015.13   \n",
       "1                     259          15.8263           0               1015.63   \n",
       "2                     204          14.9569           0               1015.94   \n",
       "3                     269          15.8263           0               1016.41   \n",
       "4                     259          15.8263           0               1016.51   \n",
       "\n",
       "                       Daily Summary  \n",
       "0  Partly cloudy throughout the day.  \n",
       "1  Partly cloudy throughout the day.  \n",
       "2  Partly cloudy throughout the day.  \n",
       "3  Partly cloudy throughout the day.  \n",
       "4  Partly cloudy throughout the day.  "
      ]
     },
     "execution_count": 5,
     "metadata": {},
     "output_type": "execute_result"
    }
   ],
   "source": [
    "df.head()"
   ]
  },
  {
   "cell_type": "code",
   "execution_count": 6,
   "metadata": {},
   "outputs": [],
   "source": [
    "df=df.drop(['Daily Summary'],axis=1)"
   ]
  },
  {
   "cell_type": "code",
   "execution_count": 7,
   "metadata": {},
   "outputs": [
    {
     "data": {
      "text/plain": [
       "Formatted Date                0\n",
       "Summary                       0\n",
       "Precip Type                 517\n",
       "Temperature (C)               0\n",
       "Apparent Temperature (C)      0\n",
       "Humidity                      0\n",
       "Wind Speed (km/h)             0\n",
       "Wind Bearing (degrees)        0\n",
       "Visibility (km)               0\n",
       "Loud Cover                    0\n",
       "Pressure (millibars)          0\n",
       "dtype: int64"
      ]
     },
     "execution_count": 7,
     "metadata": {},
     "output_type": "execute_result"
    }
   ],
   "source": [
    "df.isnull().sum()"
   ]
  },
  {
   "cell_type": "code",
   "execution_count": 8,
   "metadata": {},
   "outputs": [],
   "source": [
    "df.rename(columns={'Precip Type':'PrecipType'},inplace=True)"
   ]
  },
  {
   "cell_type": "code",
   "execution_count": 9,
   "metadata": {},
   "outputs": [
    {
     "name": "stderr",
     "output_type": "stream",
     "text": [
      "/Library/Frameworks/Python.framework/Versions/3.7/lib/python3.7/site-packages/ipykernel_launcher.py:1: SettingWithCopyWarning: \n",
      "A value is trying to be set on a copy of a slice from a DataFrame\n",
      "\n",
      "See the caveats in the documentation: https://pandas.pydata.org/pandas-docs/stable/user_guide/indexing.html#returning-a-view-versus-a-copy\n",
      "  \"\"\"Entry point for launching an IPython kernel.\n",
      "/Library/Frameworks/Python.framework/Versions/3.7/lib/python3.7/site-packages/ipykernel_launcher.py:2: SettingWithCopyWarning: \n",
      "A value is trying to be set on a copy of a slice from a DataFrame\n",
      "\n",
      "See the caveats in the documentation: https://pandas.pydata.org/pandas-docs/stable/user_guide/indexing.html#returning-a-view-versus-a-copy\n",
      "  \n"
     ]
    }
   ],
   "source": [
    "df.PrecipType[df.PrecipType == 'rain'] = 0\n",
    "df.PrecipType[df.PrecipType == 'snow'] = 1"
   ]
  },
  {
   "cell_type": "code",
   "execution_count": 10,
   "metadata": {},
   "outputs": [
    {
     "data": {
      "text/plain": [
       "Formatted Date                0\n",
       "Summary                       0\n",
       "PrecipType                  517\n",
       "Temperature (C)               0\n",
       "Apparent Temperature (C)      0\n",
       "Humidity                      0\n",
       "Wind Speed (km/h)             0\n",
       "Wind Bearing (degrees)        0\n",
       "Visibility (km)               0\n",
       "Loud Cover                    0\n",
       "Pressure (millibars)          0\n",
       "dtype: int64"
      ]
     },
     "execution_count": 10,
     "metadata": {},
     "output_type": "execute_result"
    }
   ],
   "source": [
    "df.isnull().sum()"
   ]
  },
  {
   "cell_type": "code",
   "execution_count": 11,
   "metadata": {},
   "outputs": [
    {
     "data": {
      "text/html": [
       "<div>\n",
       "<style scoped>\n",
       "    .dataframe tbody tr th:only-of-type {\n",
       "        vertical-align: middle;\n",
       "    }\n",
       "\n",
       "    .dataframe tbody tr th {\n",
       "        vertical-align: top;\n",
       "    }\n",
       "\n",
       "    .dataframe thead th {\n",
       "        text-align: right;\n",
       "    }\n",
       "</style>\n",
       "<table border=\"1\" class=\"dataframe\">\n",
       "  <thead>\n",
       "    <tr style=\"text-align: right;\">\n",
       "      <th></th>\n",
       "      <th>Formatted Date</th>\n",
       "      <th>Summary</th>\n",
       "      <th>PrecipType</th>\n",
       "      <th>Temperature (C)</th>\n",
       "      <th>Apparent Temperature (C)</th>\n",
       "      <th>Humidity</th>\n",
       "      <th>Wind Speed (km/h)</th>\n",
       "      <th>Wind Bearing (degrees)</th>\n",
       "      <th>Visibility (km)</th>\n",
       "      <th>Loud Cover</th>\n",
       "      <th>Pressure (millibars)</th>\n",
       "    </tr>\n",
       "  </thead>\n",
       "  <tbody>\n",
       "    <tr>\n",
       "      <th>0</th>\n",
       "      <td>2006-04-01 00:00:00.000 +0200</td>\n",
       "      <td>Partly Cloudy</td>\n",
       "      <td>0</td>\n",
       "      <td>9.472222</td>\n",
       "      <td>7.388889</td>\n",
       "      <td>0.89</td>\n",
       "      <td>14.1197</td>\n",
       "      <td>251</td>\n",
       "      <td>15.8263</td>\n",
       "      <td>0</td>\n",
       "      <td>1015.13</td>\n",
       "    </tr>\n",
       "    <tr>\n",
       "      <th>1</th>\n",
       "      <td>2006-04-01 01:00:00.000 +0200</td>\n",
       "      <td>Partly Cloudy</td>\n",
       "      <td>0</td>\n",
       "      <td>9.355556</td>\n",
       "      <td>7.227778</td>\n",
       "      <td>0.86</td>\n",
       "      <td>14.2646</td>\n",
       "      <td>259</td>\n",
       "      <td>15.8263</td>\n",
       "      <td>0</td>\n",
       "      <td>1015.63</td>\n",
       "    </tr>\n",
       "    <tr>\n",
       "      <th>2</th>\n",
       "      <td>2006-04-01 02:00:00.000 +0200</td>\n",
       "      <td>Mostly Cloudy</td>\n",
       "      <td>0</td>\n",
       "      <td>9.377778</td>\n",
       "      <td>9.377778</td>\n",
       "      <td>0.89</td>\n",
       "      <td>3.9284</td>\n",
       "      <td>204</td>\n",
       "      <td>14.9569</td>\n",
       "      <td>0</td>\n",
       "      <td>1015.94</td>\n",
       "    </tr>\n",
       "    <tr>\n",
       "      <th>3</th>\n",
       "      <td>2006-04-01 03:00:00.000 +0200</td>\n",
       "      <td>Partly Cloudy</td>\n",
       "      <td>0</td>\n",
       "      <td>8.288889</td>\n",
       "      <td>5.944444</td>\n",
       "      <td>0.83</td>\n",
       "      <td>14.1036</td>\n",
       "      <td>269</td>\n",
       "      <td>15.8263</td>\n",
       "      <td>0</td>\n",
       "      <td>1016.41</td>\n",
       "    </tr>\n",
       "    <tr>\n",
       "      <th>4</th>\n",
       "      <td>2006-04-01 04:00:00.000 +0200</td>\n",
       "      <td>Mostly Cloudy</td>\n",
       "      <td>0</td>\n",
       "      <td>8.755556</td>\n",
       "      <td>6.977778</td>\n",
       "      <td>0.83</td>\n",
       "      <td>11.0446</td>\n",
       "      <td>259</td>\n",
       "      <td>15.8263</td>\n",
       "      <td>0</td>\n",
       "      <td>1016.51</td>\n",
       "    </tr>\n",
       "  </tbody>\n",
       "</table>\n",
       "</div>"
      ],
      "text/plain": [
       "                  Formatted Date        Summary PrecipType  Temperature (C)  \\\n",
       "0  2006-04-01 00:00:00.000 +0200  Partly Cloudy          0         9.472222   \n",
       "1  2006-04-01 01:00:00.000 +0200  Partly Cloudy          0         9.355556   \n",
       "2  2006-04-01 02:00:00.000 +0200  Mostly Cloudy          0         9.377778   \n",
       "3  2006-04-01 03:00:00.000 +0200  Partly Cloudy          0         8.288889   \n",
       "4  2006-04-01 04:00:00.000 +0200  Mostly Cloudy          0         8.755556   \n",
       "\n",
       "   Apparent Temperature (C)  Humidity  Wind Speed (km/h)  \\\n",
       "0                  7.388889      0.89            14.1197   \n",
       "1                  7.227778      0.86            14.2646   \n",
       "2                  9.377778      0.89             3.9284   \n",
       "3                  5.944444      0.83            14.1036   \n",
       "4                  6.977778      0.83            11.0446   \n",
       "\n",
       "   Wind Bearing (degrees)  Visibility (km)  Loud Cover  Pressure (millibars)  \n",
       "0                     251          15.8263           0               1015.13  \n",
       "1                     259          15.8263           0               1015.63  \n",
       "2                     204          14.9569           0               1015.94  \n",
       "3                     269          15.8263           0               1016.41  \n",
       "4                     259          15.8263           0               1016.51  "
      ]
     },
     "execution_count": 11,
     "metadata": {},
     "output_type": "execute_result"
    }
   ],
   "source": [
    "df.head()"
   ]
  },
  {
   "cell_type": "code",
   "execution_count": 12,
   "metadata": {},
   "outputs": [],
   "source": [
    "df.fillna(0,inplace=True)"
   ]
  },
  {
   "cell_type": "code",
   "execution_count": 13,
   "metadata": {},
   "outputs": [
    {
     "data": {
      "text/plain": [
       "Formatted Date              0\n",
       "Summary                     0\n",
       "PrecipType                  0\n",
       "Temperature (C)             0\n",
       "Apparent Temperature (C)    0\n",
       "Humidity                    0\n",
       "Wind Speed (km/h)           0\n",
       "Wind Bearing (degrees)      0\n",
       "Visibility (km)             0\n",
       "Loud Cover                  0\n",
       "Pressure (millibars)        0\n",
       "dtype: int64"
      ]
     },
     "execution_count": 13,
     "metadata": {},
     "output_type": "execute_result"
    }
   ],
   "source": [
    "df.isnull().sum()"
   ]
  },
  {
   "cell_type": "code",
   "execution_count": 14,
   "metadata": {},
   "outputs": [],
   "source": [
    "df.rename(columns={\"Temperature (C)\":\"Temperature\",\"Wind Speed (km/h)\":\"WindSpeed\",\"Wind Bearing (degrees)\":\"WindBearings\",\"Visibility (km)\":\"Visibilty\",\"Loud Cover\":\"LoudCover\",\"Pressure (millibars)\":\"Pressure\",\"Apparent Temperature (C)\":\"ApparentTemperature\"},inplace=True)"
   ]
  },
  {
   "cell_type": "code",
   "execution_count": 15,
   "metadata": {},
   "outputs": [
    {
     "data": {
      "text/html": [
       "<div>\n",
       "<style scoped>\n",
       "    .dataframe tbody tr th:only-of-type {\n",
       "        vertical-align: middle;\n",
       "    }\n",
       "\n",
       "    .dataframe tbody tr th {\n",
       "        vertical-align: top;\n",
       "    }\n",
       "\n",
       "    .dataframe thead th {\n",
       "        text-align: right;\n",
       "    }\n",
       "</style>\n",
       "<table border=\"1\" class=\"dataframe\">\n",
       "  <thead>\n",
       "    <tr style=\"text-align: right;\">\n",
       "      <th></th>\n",
       "      <th>Formatted Date</th>\n",
       "      <th>Summary</th>\n",
       "      <th>PrecipType</th>\n",
       "      <th>Temperature</th>\n",
       "      <th>ApparentTemperature</th>\n",
       "      <th>Humidity</th>\n",
       "      <th>WindSpeed</th>\n",
       "      <th>WindBearings</th>\n",
       "      <th>Visibilty</th>\n",
       "      <th>LoudCover</th>\n",
       "      <th>Pressure</th>\n",
       "    </tr>\n",
       "  </thead>\n",
       "  <tbody>\n",
       "    <tr>\n",
       "      <th>0</th>\n",
       "      <td>2006-04-01 00:00:00.000 +0200</td>\n",
       "      <td>Partly Cloudy</td>\n",
       "      <td>0</td>\n",
       "      <td>9.472222</td>\n",
       "      <td>7.388889</td>\n",
       "      <td>0.89</td>\n",
       "      <td>14.1197</td>\n",
       "      <td>251</td>\n",
       "      <td>15.8263</td>\n",
       "      <td>0</td>\n",
       "      <td>1015.13</td>\n",
       "    </tr>\n",
       "    <tr>\n",
       "      <th>1</th>\n",
       "      <td>2006-04-01 01:00:00.000 +0200</td>\n",
       "      <td>Partly Cloudy</td>\n",
       "      <td>0</td>\n",
       "      <td>9.355556</td>\n",
       "      <td>7.227778</td>\n",
       "      <td>0.86</td>\n",
       "      <td>14.2646</td>\n",
       "      <td>259</td>\n",
       "      <td>15.8263</td>\n",
       "      <td>0</td>\n",
       "      <td>1015.63</td>\n",
       "    </tr>\n",
       "    <tr>\n",
       "      <th>2</th>\n",
       "      <td>2006-04-01 02:00:00.000 +0200</td>\n",
       "      <td>Mostly Cloudy</td>\n",
       "      <td>0</td>\n",
       "      <td>9.377778</td>\n",
       "      <td>9.377778</td>\n",
       "      <td>0.89</td>\n",
       "      <td>3.9284</td>\n",
       "      <td>204</td>\n",
       "      <td>14.9569</td>\n",
       "      <td>0</td>\n",
       "      <td>1015.94</td>\n",
       "    </tr>\n",
       "    <tr>\n",
       "      <th>3</th>\n",
       "      <td>2006-04-01 03:00:00.000 +0200</td>\n",
       "      <td>Partly Cloudy</td>\n",
       "      <td>0</td>\n",
       "      <td>8.288889</td>\n",
       "      <td>5.944444</td>\n",
       "      <td>0.83</td>\n",
       "      <td>14.1036</td>\n",
       "      <td>269</td>\n",
       "      <td>15.8263</td>\n",
       "      <td>0</td>\n",
       "      <td>1016.41</td>\n",
       "    </tr>\n",
       "    <tr>\n",
       "      <th>4</th>\n",
       "      <td>2006-04-01 04:00:00.000 +0200</td>\n",
       "      <td>Mostly Cloudy</td>\n",
       "      <td>0</td>\n",
       "      <td>8.755556</td>\n",
       "      <td>6.977778</td>\n",
       "      <td>0.83</td>\n",
       "      <td>11.0446</td>\n",
       "      <td>259</td>\n",
       "      <td>15.8263</td>\n",
       "      <td>0</td>\n",
       "      <td>1016.51</td>\n",
       "    </tr>\n",
       "  </tbody>\n",
       "</table>\n",
       "</div>"
      ],
      "text/plain": [
       "                  Formatted Date        Summary  PrecipType  Temperature  \\\n",
       "0  2006-04-01 00:00:00.000 +0200  Partly Cloudy           0     9.472222   \n",
       "1  2006-04-01 01:00:00.000 +0200  Partly Cloudy           0     9.355556   \n",
       "2  2006-04-01 02:00:00.000 +0200  Mostly Cloudy           0     9.377778   \n",
       "3  2006-04-01 03:00:00.000 +0200  Partly Cloudy           0     8.288889   \n",
       "4  2006-04-01 04:00:00.000 +0200  Mostly Cloudy           0     8.755556   \n",
       "\n",
       "   ApparentTemperature  Humidity  WindSpeed  WindBearings  Visibilty  \\\n",
       "0             7.388889      0.89    14.1197           251    15.8263   \n",
       "1             7.227778      0.86    14.2646           259    15.8263   \n",
       "2             9.377778      0.89     3.9284           204    14.9569   \n",
       "3             5.944444      0.83    14.1036           269    15.8263   \n",
       "4             6.977778      0.83    11.0446           259    15.8263   \n",
       "\n",
       "   LoudCover  Pressure  \n",
       "0          0   1015.13  \n",
       "1          0   1015.63  \n",
       "2          0   1015.94  \n",
       "3          0   1016.41  \n",
       "4          0   1016.51  "
      ]
     },
     "execution_count": 15,
     "metadata": {},
     "output_type": "execute_result"
    }
   ],
   "source": [
    "df.head()"
   ]
  },
  {
   "cell_type": "code",
   "execution_count": 16,
   "metadata": {},
   "outputs": [
    {
     "data": {
      "text/plain": [
       "array(['Partly Cloudy', 'Mostly Cloudy', 'Overcast', 'Foggy',\n",
       "       'Breezy and Mostly Cloudy', 'Clear', 'Breezy and Partly Cloudy',\n",
       "       'Breezy and Overcast', 'Humid and Mostly Cloudy',\n",
       "       'Humid and Partly Cloudy', 'Windy and Foggy', 'Windy and Overcast',\n",
       "       'Breezy and Foggy', 'Windy and Partly Cloudy', 'Breezy',\n",
       "       'Dry and Partly Cloudy', 'Windy and Mostly Cloudy',\n",
       "       'Dangerously Windy and Partly Cloudy', 'Dry', 'Windy',\n",
       "       'Humid and Overcast', 'Light Rain', 'Drizzle', 'Windy and Dry',\n",
       "       'Dry and Mostly Cloudy', 'Breezy and Dry', 'Rain'], dtype=object)"
      ]
     },
     "execution_count": 16,
     "metadata": {},
     "output_type": "execute_result"
    }
   ],
   "source": [
    "df.Summary.unique()"
   ]
  },
  {
   "cell_type": "code",
   "execution_count": 17,
   "metadata": {},
   "outputs": [
    {
     "data": {
      "text/plain": [
       "array([0])"
      ]
     },
     "execution_count": 17,
     "metadata": {},
     "output_type": "execute_result"
    }
   ],
   "source": [
    "df.LoudCover.unique()"
   ]
  },
  {
   "cell_type": "code",
   "execution_count": 18,
   "metadata": {},
   "outputs": [
    {
     "data": {
      "text/html": [
       "<div>\n",
       "<style scoped>\n",
       "    .dataframe tbody tr th:only-of-type {\n",
       "        vertical-align: middle;\n",
       "    }\n",
       "\n",
       "    .dataframe tbody tr th {\n",
       "        vertical-align: top;\n",
       "    }\n",
       "\n",
       "    .dataframe thead th {\n",
       "        text-align: right;\n",
       "    }\n",
       "</style>\n",
       "<table border=\"1\" class=\"dataframe\">\n",
       "  <thead>\n",
       "    <tr style=\"text-align: right;\">\n",
       "      <th></th>\n",
       "      <th>PrecipType</th>\n",
       "      <th>Temperature</th>\n",
       "      <th>ApparentTemperature</th>\n",
       "      <th>Humidity</th>\n",
       "      <th>WindSpeed</th>\n",
       "      <th>WindBearings</th>\n",
       "      <th>Visibilty</th>\n",
       "      <th>LoudCover</th>\n",
       "      <th>Pressure</th>\n",
       "    </tr>\n",
       "  </thead>\n",
       "  <tbody>\n",
       "    <tr>\n",
       "      <th>PrecipType</th>\n",
       "      <td>1.000000</td>\n",
       "      <td>-0.562620</td>\n",
       "      <td>-0.565207</td>\n",
       "      <td>0.232113</td>\n",
       "      <td>-0.067928</td>\n",
       "      <td>-0.041984</td>\n",
       "      <td>-0.312875</td>\n",
       "      <td>NaN</td>\n",
       "      <td>0.009008</td>\n",
       "    </tr>\n",
       "    <tr>\n",
       "      <th>Temperature</th>\n",
       "      <td>-0.562620</td>\n",
       "      <td>1.000000</td>\n",
       "      <td>0.992629</td>\n",
       "      <td>-0.632255</td>\n",
       "      <td>0.008957</td>\n",
       "      <td>0.029988</td>\n",
       "      <td>0.392847</td>\n",
       "      <td>NaN</td>\n",
       "      <td>-0.005447</td>\n",
       "    </tr>\n",
       "    <tr>\n",
       "      <th>ApparentTemperature</th>\n",
       "      <td>-0.565207</td>\n",
       "      <td>0.992629</td>\n",
       "      <td>1.000000</td>\n",
       "      <td>-0.602571</td>\n",
       "      <td>-0.056650</td>\n",
       "      <td>0.029031</td>\n",
       "      <td>0.381718</td>\n",
       "      <td>NaN</td>\n",
       "      <td>-0.000219</td>\n",
       "    </tr>\n",
       "    <tr>\n",
       "      <th>Humidity</th>\n",
       "      <td>0.232113</td>\n",
       "      <td>-0.632255</td>\n",
       "      <td>-0.602571</td>\n",
       "      <td>1.000000</td>\n",
       "      <td>-0.224951</td>\n",
       "      <td>0.000735</td>\n",
       "      <td>-0.369173</td>\n",
       "      <td>NaN</td>\n",
       "      <td>0.005454</td>\n",
       "    </tr>\n",
       "    <tr>\n",
       "      <th>WindSpeed</th>\n",
       "      <td>-0.067928</td>\n",
       "      <td>0.008957</td>\n",
       "      <td>-0.056650</td>\n",
       "      <td>-0.224951</td>\n",
       "      <td>1.000000</td>\n",
       "      <td>0.103822</td>\n",
       "      <td>0.100749</td>\n",
       "      <td>NaN</td>\n",
       "      <td>-0.049263</td>\n",
       "    </tr>\n",
       "    <tr>\n",
       "      <th>WindBearings</th>\n",
       "      <td>-0.041984</td>\n",
       "      <td>0.029988</td>\n",
       "      <td>0.029031</td>\n",
       "      <td>0.000735</td>\n",
       "      <td>0.103822</td>\n",
       "      <td>1.000000</td>\n",
       "      <td>0.047594</td>\n",
       "      <td>NaN</td>\n",
       "      <td>-0.011651</td>\n",
       "    </tr>\n",
       "    <tr>\n",
       "      <th>Visibilty</th>\n",
       "      <td>-0.312875</td>\n",
       "      <td>0.392847</td>\n",
       "      <td>0.381718</td>\n",
       "      <td>-0.369173</td>\n",
       "      <td>0.100749</td>\n",
       "      <td>0.047594</td>\n",
       "      <td>1.000000</td>\n",
       "      <td>NaN</td>\n",
       "      <td>0.059818</td>\n",
       "    </tr>\n",
       "    <tr>\n",
       "      <th>LoudCover</th>\n",
       "      <td>NaN</td>\n",
       "      <td>NaN</td>\n",
       "      <td>NaN</td>\n",
       "      <td>NaN</td>\n",
       "      <td>NaN</td>\n",
       "      <td>NaN</td>\n",
       "      <td>NaN</td>\n",
       "      <td>NaN</td>\n",
       "      <td>NaN</td>\n",
       "    </tr>\n",
       "    <tr>\n",
       "      <th>Pressure</th>\n",
       "      <td>0.009008</td>\n",
       "      <td>-0.005447</td>\n",
       "      <td>-0.000219</td>\n",
       "      <td>0.005454</td>\n",
       "      <td>-0.049263</td>\n",
       "      <td>-0.011651</td>\n",
       "      <td>0.059818</td>\n",
       "      <td>NaN</td>\n",
       "      <td>1.000000</td>\n",
       "    </tr>\n",
       "  </tbody>\n",
       "</table>\n",
       "</div>"
      ],
      "text/plain": [
       "                     PrecipType  Temperature  ApparentTemperature  Humidity  \\\n",
       "PrecipType             1.000000    -0.562620            -0.565207  0.232113   \n",
       "Temperature           -0.562620     1.000000             0.992629 -0.632255   \n",
       "ApparentTemperature   -0.565207     0.992629             1.000000 -0.602571   \n",
       "Humidity               0.232113    -0.632255            -0.602571  1.000000   \n",
       "WindSpeed             -0.067928     0.008957            -0.056650 -0.224951   \n",
       "WindBearings          -0.041984     0.029988             0.029031  0.000735   \n",
       "Visibilty             -0.312875     0.392847             0.381718 -0.369173   \n",
       "LoudCover                   NaN          NaN                  NaN       NaN   \n",
       "Pressure               0.009008    -0.005447            -0.000219  0.005454   \n",
       "\n",
       "                     WindSpeed  WindBearings  Visibilty  LoudCover  Pressure  \n",
       "PrecipType           -0.067928     -0.041984  -0.312875        NaN  0.009008  \n",
       "Temperature           0.008957      0.029988   0.392847        NaN -0.005447  \n",
       "ApparentTemperature  -0.056650      0.029031   0.381718        NaN -0.000219  \n",
       "Humidity             -0.224951      0.000735  -0.369173        NaN  0.005454  \n",
       "WindSpeed             1.000000      0.103822   0.100749        NaN -0.049263  \n",
       "WindBearings          0.103822      1.000000   0.047594        NaN -0.011651  \n",
       "Visibilty             0.100749      0.047594   1.000000        NaN  0.059818  \n",
       "LoudCover                  NaN           NaN        NaN        NaN       NaN  \n",
       "Pressure             -0.049263     -0.011651   0.059818        NaN  1.000000  "
      ]
     },
     "execution_count": 18,
     "metadata": {},
     "output_type": "execute_result"
    }
   ],
   "source": [
    "df.corr()"
   ]
  },
  {
   "cell_type": "code",
   "execution_count": 19,
   "metadata": {},
   "outputs": [],
   "source": [
    "df=df.drop(['LoudCover'],axis=1)"
   ]
  },
  {
   "cell_type": "code",
   "execution_count": 20,
   "metadata": {},
   "outputs": [
    {
     "data": {
      "text/plain": [
       "<AxesSubplot:>"
      ]
     },
     "execution_count": 20,
     "metadata": {},
     "output_type": "execute_result"
    },
    {
     "data": {
      "image/png": "[encoded data removed]",
      "text/plain": [
       "<Figure size 640x480 with 2 Axes>"
      ]
     },
     "metadata": {},
     "output_type": "display_data"
    }
   ],
   "source": [
    "sn.heatmap(df.corr())"
   ]
  },
  {
   "cell_type": "code",
   "execution_count": 21,
   "metadata": {},
   "outputs": [
    {
     "data": {
      "text/html": [
       "<div>\n",
       "<style scoped>\n",
       "    .dataframe tbody tr th:only-of-type {\n",
       "        vertical-align: middle;\n",
       "    }\n",
       "\n",
       "    .dataframe tbody tr th {\n",
       "        vertical-align: top;\n",
       "    }\n",
       "\n",
       "    .dataframe thead th {\n",
       "        text-align: right;\n",
       "    }\n",
       "</style>\n",
       "<table border=\"1\" class=\"dataframe\">\n",
       "  <thead>\n",
       "    <tr style=\"text-align: right;\">\n",
       "      <th></th>\n",
       "      <th>Formatted Date</th>\n",
       "      <th>Summary</th>\n",
       "      <th>PrecipType</th>\n",
       "      <th>Temperature</th>\n",
       "      <th>ApparentTemperature</th>\n",
       "      <th>Humidity</th>\n",
       "      <th>WindSpeed</th>\n",
       "      <th>WindBearings</th>\n",
       "      <th>Visibilty</th>\n",
       "      <th>Pressure</th>\n",
       "    </tr>\n",
       "  </thead>\n",
       "  <tbody>\n",
       "    <tr>\n",
       "      <th>0</th>\n",
       "      <td>2006-04-01 00:00:00.000 +0200</td>\n",
       "      <td>Partly Cloudy</td>\n",
       "      <td>0</td>\n",
       "      <td>9.472222</td>\n",
       "      <td>7.388889</td>\n",
       "      <td>0.89</td>\n",
       "      <td>14.1197</td>\n",
       "      <td>251</td>\n",
       "      <td>15.8263</td>\n",
       "      <td>1015.13</td>\n",
       "    </tr>\n",
       "    <tr>\n",
       "      <th>1</th>\n",
       "      <td>2006-04-01 01:00:00.000 +0200</td>\n",
       "      <td>Partly Cloudy</td>\n",
       "      <td>0</td>\n",
       "      <td>9.355556</td>\n",
       "      <td>7.227778</td>\n",
       "      <td>0.86</td>\n",
       "      <td>14.2646</td>\n",
       "      <td>259</td>\n",
       "      <td>15.8263</td>\n",
       "      <td>1015.63</td>\n",
       "    </tr>\n",
       "    <tr>\n",
       "      <th>2</th>\n",
       "      <td>2006-04-01 02:00:00.000 +0200</td>\n",
       "      <td>Mostly Cloudy</td>\n",
       "      <td>0</td>\n",
       "      <td>9.377778</td>\n",
       "      <td>9.377778</td>\n",
       "      <td>0.89</td>\n",
       "      <td>3.9284</td>\n",
       "      <td>204</td>\n",
       "      <td>14.9569</td>\n",
       "      <td>1015.94</td>\n",
       "    </tr>\n",
       "    <tr>\n",
       "      <th>3</th>\n",
       "      <td>2006-04-01 03:00:00.000 +0200</td>\n",
       "      <td>Partly Cloudy</td>\n",
       "      <td>0</td>\n",
       "      <td>8.288889</td>\n",
       "      <td>5.944444</td>\n",
       "      <td>0.83</td>\n",
       "      <td>14.1036</td>\n",
       "      <td>269</td>\n",
       "      <td>15.8263</td>\n",
       "      <td>1016.41</td>\n",
       "    </tr>\n",
       "    <tr>\n",
       "      <th>4</th>\n",
       "      <td>2006-04-01 04:00:00.000 +0200</td>\n",
       "      <td>Mostly Cloudy</td>\n",
       "      <td>0</td>\n",
       "      <td>8.755556</td>\n",
       "      <td>6.977778</td>\n",
       "      <td>0.83</td>\n",
       "      <td>11.0446</td>\n",
       "      <td>259</td>\n",
       "      <td>15.8263</td>\n",
       "      <td>1016.51</td>\n",
       "    </tr>\n",
       "  </tbody>\n",
       "</table>\n",
       "</div>"
      ],
      "text/plain": [
       "                  Formatted Date        Summary  PrecipType  Temperature  \\\n",
       "0  2006-04-01 00:00:00.000 +0200  Partly Cloudy           0     9.472222   \n",
       "1  2006-04-01 01:00:00.000 +0200  Partly Cloudy           0     9.355556   \n",
       "2  2006-04-01 02:00:00.000 +0200  Mostly Cloudy           0     9.377778   \n",
       "3  2006-04-01 03:00:00.000 +0200  Partly Cloudy           0     8.288889   \n",
       "4  2006-04-01 04:00:00.000 +0200  Mostly Cloudy           0     8.755556   \n",
       "\n",
       "   ApparentTemperature  Humidity  WindSpeed  WindBearings  Visibilty  Pressure  \n",
       "0             7.388889      0.89    14.1197           251    15.8263   1015.13  \n",
       "1             7.227778      0.86    14.2646           259    15.8263   1015.63  \n",
       "2             9.377778      0.89     3.9284           204    14.9569   1015.94  \n",
       "3             5.944444      0.83    14.1036           269    15.8263   1016.41  \n",
       "4             6.977778      0.83    11.0446           259    15.8263   1016.51  "
      ]
     },
     "execution_count": 21,
     "metadata": {},
     "output_type": "execute_result"
    }
   ],
   "source": [
    "df.head()"
   ]
  },
  {
   "cell_type": "code",
   "execution_count": 22,
   "metadata": {},
   "outputs": [
    {
     "name": "stdout",
     "output_type": "stream",
     "text": [
      "27\n"
     ]
    },
    {
     "data": {
      "text/plain": [
       "array(['Partly Cloudy', 'Mostly Cloudy', 'Overcast', 'Foggy',\n",
       "       'Breezy and Mostly Cloudy', 'Clear', 'Breezy and Partly Cloudy',\n",
       "       'Breezy and Overcast', 'Humid and Mostly Cloudy',\n",
       "       'Humid and Partly Cloudy', 'Windy and Foggy', 'Windy and Overcast',\n",
       "       'Breezy and Foggy', 'Windy and Partly Cloudy', 'Breezy',\n",
       "       'Dry and Partly Cloudy', 'Windy and Mostly Cloudy',\n",
       "       'Dangerously Windy and Partly Cloudy', 'Dry', 'Windy',\n",
       "       'Humid and Overcast', 'Light Rain', 'Drizzle', 'Windy and Dry',\n",
       "       'Dry and Mostly Cloudy', 'Breezy and Dry', 'Rain'], dtype=object)"
      ]
     },
     "execution_count": 22,
     "metadata": {},
     "output_type": "execute_result"
    }
   ],
   "source": [
    "print(len(df.Summary.unique()))\n",
    "df.Summary.unique()"
   ]
  },
  {
   "cell_type": "code",
   "execution_count": 23,
   "metadata": {},
   "outputs": [
    {
     "name": "stderr",
     "output_type": "stream",
     "text": [
      "/Library/Frameworks/Python.framework/Versions/3.7/lib/python3.7/site-packages/ipykernel_launcher.py:3: SettingWithCopyWarning: \n",
      "A value is trying to be set on a copy of a slice from a DataFrame\n",
      "\n",
      "See the caveats in the documentation: https://pandas.pydata.org/pandas-docs/stable/user_guide/indexing.html#returning-a-view-versus-a-copy\n",
      "  This is separate from the ipykernel package so we can avoid doing imports until\n"
     ]
    }
   ],
   "source": [
    "from sklearn.preprocessing import LabelEncoder, OneHotEncoder\n",
    "labelencoder_X = LabelEncoder()\n",
    "df.Summary[:] = labelencoder_X.fit_transform(df.Summary[:])"
   ]
  },
  {
   "cell_type": "code",
   "execution_count": 24,
   "metadata": {},
   "outputs": [
    {
     "data": {
      "text/plain": [
       "array([19, 17, 18, 12, 3, 6, 5, 4, 13, 15, 23, 25, 2, 26, 0, 11, 24, 7, 9,\n",
       "       21, 14, 16, 8, 22, 10, 1, 20], dtype=object)"
      ]
     },
     "execution_count": 24,
     "metadata": {},
     "output_type": "execute_result"
    }
   ],
   "source": [
    "df.Summary.unique()"
   ]
  },
  {
   "cell_type": "code",
   "execution_count": 25,
   "metadata": {},
   "outputs": [
    {
     "name": "stdout",
     "output_type": "stream",
     "text": [
      "27\n"
     ]
    }
   ],
   "source": [
    "print(len(df.Summary.unique()))"
   ]
  },
  {
   "cell_type": "code",
   "execution_count": 26,
   "metadata": {},
   "outputs": [
    {
     "data": {
      "text/html": [
       "<div>\n",
       "<style scoped>\n",
       "    .dataframe tbody tr th:only-of-type {\n",
       "        vertical-align: middle;\n",
       "    }\n",
       "\n",
       "    .dataframe tbody tr th {\n",
       "        vertical-align: top;\n",
       "    }\n",
       "\n",
       "    .dataframe thead th {\n",
       "        text-align: right;\n",
       "    }\n",
       "</style>\n",
       "<table border=\"1\" class=\"dataframe\">\n",
       "  <thead>\n",
       "    <tr style=\"text-align: right;\">\n",
       "      <th></th>\n",
       "      <th>Formatted Date</th>\n",
       "      <th>Summary</th>\n",
       "      <th>PrecipType</th>\n",
       "      <th>Temperature</th>\n",
       "      <th>ApparentTemperature</th>\n",
       "      <th>Humidity</th>\n",
       "      <th>WindSpeed</th>\n",
       "      <th>WindBearings</th>\n",
       "      <th>Visibilty</th>\n",
       "      <th>Pressure</th>\n",
       "    </tr>\n",
       "  </thead>\n",
       "  <tbody>\n",
       "    <tr>\n",
       "      <th>0</th>\n",
       "      <td>2006-04-01 00:00:00.000 +0200</td>\n",
       "      <td>19</td>\n",
       "      <td>0</td>\n",
       "      <td>9.472222</td>\n",
       "      <td>7.388889</td>\n",
       "      <td>0.89</td>\n",
       "      <td>14.1197</td>\n",
       "      <td>251</td>\n",
       "      <td>15.8263</td>\n",
       "      <td>1015.13</td>\n",
       "    </tr>\n",
       "    <tr>\n",
       "      <th>1</th>\n",
       "      <td>2006-04-01 01:00:00.000 +0200</td>\n",
       "      <td>19</td>\n",
       "      <td>0</td>\n",
       "      <td>9.355556</td>\n",
       "      <td>7.227778</td>\n",
       "      <td>0.86</td>\n",
       "      <td>14.2646</td>\n",
       "      <td>259</td>\n",
       "      <td>15.8263</td>\n",
       "      <td>1015.63</td>\n",
       "    </tr>\n",
       "    <tr>\n",
       "      <th>2</th>\n",
       "      <td>2006-04-01 02:00:00.000 +0200</td>\n",
       "      <td>17</td>\n",
       "      <td>0</td>\n",
       "      <td>9.377778</td>\n",
       "      <td>9.377778</td>\n",
       "      <td>0.89</td>\n",
       "      <td>3.9284</td>\n",
       "      <td>204</td>\n",
       "      <td>14.9569</td>\n",
       "      <td>1015.94</td>\n",
       "    </tr>\n",
       "    <tr>\n",
       "      <th>3</th>\n",
       "      <td>2006-04-01 03:00:00.000 +0200</td>\n",
       "      <td>19</td>\n",
       "      <td>0</td>\n",
       "      <td>8.288889</td>\n",
       "      <td>5.944444</td>\n",
       "      <td>0.83</td>\n",
       "      <td>14.1036</td>\n",
       "      <td>269</td>\n",
       "      <td>15.8263</td>\n",
       "      <td>1016.41</td>\n",
       "    </tr>\n",
       "    <tr>\n",
       "      <th>4</th>\n",
       "      <td>2006-04-01 04:00:00.000 +0200</td>\n",
       "      <td>17</td>\n",
       "      <td>0</td>\n",
       "      <td>8.755556</td>\n",
       "      <td>6.977778</td>\n",
       "      <td>0.83</td>\n",
       "      <td>11.0446</td>\n",
       "      <td>259</td>\n",
       "      <td>15.8263</td>\n",
       "      <td>1016.51</td>\n",
       "    </tr>\n",
       "  </tbody>\n",
       "</table>\n",
       "</div>"
      ],
      "text/plain": [
       "                  Formatted Date Summary  PrecipType  Temperature  \\\n",
       "0  2006-04-01 00:00:00.000 +0200      19           0     9.472222   \n",
       "1  2006-04-01 01:00:00.000 +0200      19           0     9.355556   \n",
       "2  2006-04-01 02:00:00.000 +0200      17           0     9.377778   \n",
       "3  2006-04-01 03:00:00.000 +0200      19           0     8.288889   \n",
       "4  2006-04-01 04:00:00.000 +0200      17           0     8.755556   \n",
       "\n",
       "   ApparentTemperature  Humidity  WindSpeed  WindBearings  Visibilty  Pressure  \n",
       "0             7.388889      0.89    14.1197           251    15.8263   1015.13  \n",
       "1             7.227778      0.86    14.2646           259    15.8263   1015.63  \n",
       "2             9.377778      0.89     3.9284           204    14.9569   1015.94  \n",
       "3             5.944444      0.83    14.1036           269    15.8263   1016.41  \n",
       "4             6.977778      0.83    11.0446           259    15.8263   1016.51  "
      ]
     },
     "execution_count": 26,
     "metadata": {},
     "output_type": "execute_result"
    }
   ],
   "source": [
    "df.head()"
   ]
  },
  {
   "cell_type": "code",
   "execution_count": 27,
   "metadata": {},
   "outputs": [],
   "source": [
    "# convert series to supervised learning \n",
    "def series_to_supervised(data, n_in=1, n_out=1, dropnan=True): \n",
    "    n_vars = 1 if type(data) is list else data.shape[1] \n",
    "    df = pd.DataFrame(data) \n",
    "    cols, names = list(), list() \n",
    "    # input sequence (t-n, ... t-1) \n",
    "    for i in range(n_in, 0, -1):  \n",
    "        cols.append(df.shift(i))  \n",
    "        names += [('var%d(t-%d)' % (j+1, i)) for j in range(n_vars)] \n",
    "    # forecast sequence (t, t+1, ... t+n) \n",
    "    for i in range(0, n_out):  \n",
    "        cols.append(df.shift(-i))  \n",
    "        if i == 0:   \n",
    "            names += [('var%d(t)' % (j+1)) for j in range(n_vars)]  \n",
    "        else:   \n",
    "            names += [('var%d(t+%d)' % (j+1, i)) for j in range(n_vars)] \n",
    "    # put it all together \n",
    "    agg = pd.concat(cols, axis=1) \n",
    "    agg.columns = names \n",
    "    # drop rows with NaN values \n",
    "    if dropnan:  \n",
    "        agg.dropna(inplace=True) \n",
    "    return agg "
   ]
  },
  {
   "cell_type": "code",
   "execution_count": 30,
   "metadata": {},
   "outputs": [],
   "source": [
    "df2 = {}\n",
    "df2['date'] = df['Formatted Date'].apply(pd.to_datetime, utc=True)\n"
   ]
  },
  {
   "cell_type": "code",
   "execution_count": 31,
   "metadata": {},
   "outputs": [],
   "source": [
    "df2['date'] = df2['date'].astype(str)\n",
    "df2['date'] = df2['date'].str[:-6]\n",
    "df2['date'] = pd.to_datetime(df2['date'])"
   ]
  },
  {
   "cell_type": "code",
   "execution_count": 32,
   "metadata": {},
   "outputs": [],
   "source": [
    "df = df.set_index(pd.DatetimeIndex(df2['date']))"
   ]
  },
  {
   "cell_type": "code",
   "execution_count": 33,
   "metadata": {},
   "outputs": [],
   "source": [
    "df=df.drop('Formatted Date',axis=1)"
   ]
  },
  {
   "cell_type": "code",
   "execution_count": 34,
   "metadata": {},
   "outputs": [],
   "source": [
    "df.index.name='date'"
   ]
  },
  {
   "cell_type": "code",
   "execution_count": 35,
   "metadata": {},
   "outputs": [
    {
     "data": {
      "text/html": [
       "<div>\n",
       "<style scoped>\n",
       "    .dataframe tbody tr th:only-of-type {\n",
       "        vertical-align: middle;\n",
       "    }\n",
       "\n",
       "    .dataframe tbody tr th {\n",
       "        vertical-align: top;\n",
       "    }\n",
       "\n",
       "    .dataframe thead th {\n",
       "        text-align: right;\n",
       "    }\n",
       "</style>\n",
       "<table border=\"1\" class=\"dataframe\">\n",
       "  <thead>\n",
       "    <tr style=\"text-align: right;\">\n",
       "      <th></th>\n",
       "      <th>Summary</th>\n",
       "      <th>PrecipType</th>\n",
       "      <th>Temperature</th>\n",
       "      <th>ApparentTemperature</th>\n",
       "      <th>Humidity</th>\n",
       "      <th>WindSpeed</th>\n",
       "      <th>WindBearings</th>\n",
       "      <th>Visibilty</th>\n",
       "      <th>Pressure</th>\n",
       "    </tr>\n",
       "    <tr>\n",
       "      <th>date</th>\n",
       "      <th></th>\n",
       "      <th></th>\n",
       "      <th></th>\n",
       "      <th></th>\n",
       "      <th></th>\n",
       "      <th></th>\n",
       "      <th></th>\n",
       "      <th></th>\n",
       "      <th></th>\n",
       "    </tr>\n",
       "  </thead>\n",
       "  <tbody>\n",
       "    <tr>\n",
       "      <th>2006-03-31 22:00:00</th>\n",
       "      <td>19</td>\n",
       "      <td>0</td>\n",
       "      <td>9.472222</td>\n",
       "      <td>7.388889</td>\n",
       "      <td>0.89</td>\n",
       "      <td>14.1197</td>\n",
       "      <td>251</td>\n",
       "      <td>15.8263</td>\n",
       "      <td>1015.13</td>\n",
       "    </tr>\n",
       "    <tr>\n",
       "      <th>2006-03-31 23:00:00</th>\n",
       "      <td>19</td>\n",
       "      <td>0</td>\n",
       "      <td>9.355556</td>\n",
       "      <td>7.227778</td>\n",
       "      <td>0.86</td>\n",
       "      <td>14.2646</td>\n",
       "      <td>259</td>\n",
       "      <td>15.8263</td>\n",
       "      <td>1015.63</td>\n",
       "    </tr>\n",
       "    <tr>\n",
       "      <th>2006-04-01 00:00:00</th>\n",
       "      <td>17</td>\n",
       "      <td>0</td>\n",
       "      <td>9.377778</td>\n",
       "      <td>9.377778</td>\n",
       "      <td>0.89</td>\n",
       "      <td>3.9284</td>\n",
       "      <td>204</td>\n",
       "      <td>14.9569</td>\n",
       "      <td>1015.94</td>\n",
       "    </tr>\n",
       "    <tr>\n",
       "      <th>2006-04-01 01:00:00</th>\n",
       "      <td>19</td>\n",
       "      <td>0</td>\n",
       "      <td>8.288889</td>\n",
       "      <td>5.944444</td>\n",
       "      <td>0.83</td>\n",
       "      <td>14.1036</td>\n",
       "      <td>269</td>\n",
       "      <td>15.8263</td>\n",
       "      <td>1016.41</td>\n",
       "    </tr>\n",
       "    <tr>\n",
       "      <th>2006-04-01 02:00:00</th>\n",
       "      <td>17</td>\n",
       "      <td>0</td>\n",
       "      <td>8.755556</td>\n",
       "      <td>6.977778</td>\n",
       "      <td>0.83</td>\n",
       "      <td>11.0446</td>\n",
       "      <td>259</td>\n",
       "      <td>15.8263</td>\n",
       "      <td>1016.51</td>\n",
       "    </tr>\n",
       "  </tbody>\n",
       "</table>\n",
       "</div>"
      ],
      "text/plain": [
       "                    Summary  PrecipType  Temperature  ApparentTemperature  \\\n",
       "date                                                                        \n",
       "2006-03-31 22:00:00      19           0     9.472222             7.388889   \n",
       "2006-03-31 23:00:00      19           0     9.355556             7.227778   \n",
       "2006-04-01 00:00:00      17           0     9.377778             9.377778   \n",
       "2006-04-01 01:00:00      19           0     8.288889             5.944444   \n",
       "2006-04-01 02:00:00      17           0     8.755556             6.977778   \n",
       "\n",
       "                     Humidity  WindSpeed  WindBearings  Visibilty  Pressure  \n",
       "date                                                                         \n",
       "2006-03-31 22:00:00      0.89    14.1197           251    15.8263   1015.13  \n",
       "2006-03-31 23:00:00      0.86    14.2646           259    15.8263   1015.63  \n",
       "2006-04-01 00:00:00      0.89     3.9284           204    14.9569   1015.94  \n",
       "2006-04-01 01:00:00      0.83    14.1036           269    15.8263   1016.41  \n",
       "2006-04-01 02:00:00      0.83    11.0446           259    15.8263   1016.51  "
      ]
     },
     "execution_count": 35,
     "metadata": {},
     "output_type": "execute_result"
    }
   ],
   "source": [
    "df.head()"
   ]
  },
  {
   "cell_type": "code",
   "execution_count": 36,
   "metadata": {},
   "outputs": [],
   "source": [
    "df=df.drop('ApparentTemperature',axis=1)"
   ]
  },
  {
   "cell_type": "code",
   "execution_count": 37,
   "metadata": {},
   "outputs": [],
   "source": [
    "df.to_csv(\"weather.csv\")"
   ]
  },
  {
   "cell_type": "code",
   "execution_count": 38,
   "metadata": {},
   "outputs": [
    {
     "data": {
      "text/html": [
       "<div>\n",
       "<style scoped>\n",
       "    .dataframe tbody tr th:only-of-type {\n",
       "        vertical-align: middle;\n",
       "    }\n",
       "\n",
       "    .dataframe tbody tr th {\n",
       "        vertical-align: top;\n",
       "    }\n",
       "\n",
       "    .dataframe thead th {\n",
       "        text-align: right;\n",
       "    }\n",
       "</style>\n",
       "<table border=\"1\" class=\"dataframe\">\n",
       "  <thead>\n",
       "    <tr style=\"text-align: right;\">\n",
       "      <th></th>\n",
       "      <th>Summary</th>\n",
       "      <th>PrecipType</th>\n",
       "      <th>Temperature</th>\n",
       "      <th>Humidity</th>\n",
       "      <th>WindSpeed</th>\n",
       "      <th>WindBearings</th>\n",
       "      <th>Visibilty</th>\n",
       "      <th>Pressure</th>\n",
       "    </tr>\n",
       "    <tr>\n",
       "      <th>date</th>\n",
       "      <th></th>\n",
       "      <th></th>\n",
       "      <th></th>\n",
       "      <th></th>\n",
       "      <th></th>\n",
       "      <th></th>\n",
       "      <th></th>\n",
       "      <th></th>\n",
       "    </tr>\n",
       "  </thead>\n",
       "  <tbody>\n",
       "    <tr>\n",
       "      <th>2006-03-31 22:00:00</th>\n",
       "      <td>19</td>\n",
       "      <td>0</td>\n",
       "      <td>9.472222</td>\n",
       "      <td>0.89</td>\n",
       "      <td>14.1197</td>\n",
       "      <td>251</td>\n",
       "      <td>15.8263</td>\n",
       "      <td>1015.13</td>\n",
       "    </tr>\n",
       "    <tr>\n",
       "      <th>2006-03-31 23:00:00</th>\n",
       "      <td>19</td>\n",
       "      <td>0</td>\n",
       "      <td>9.355556</td>\n",
       "      <td>0.86</td>\n",
       "      <td>14.2646</td>\n",
       "      <td>259</td>\n",
       "      <td>15.8263</td>\n",
       "      <td>1015.63</td>\n",
       "    </tr>\n",
       "    <tr>\n",
       "      <th>2006-04-01 00:00:00</th>\n",
       "      <td>17</td>\n",
       "      <td>0</td>\n",
       "      <td>9.377778</td>\n",
       "      <td>0.89</td>\n",
       "      <td>3.9284</td>\n",
       "      <td>204</td>\n",
       "      <td>14.9569</td>\n",
       "      <td>1015.94</td>\n",
       "    </tr>\n",
       "    <tr>\n",
       "      <th>2006-04-01 01:00:00</th>\n",
       "      <td>19</td>\n",
       "      <td>0</td>\n",
       "      <td>8.288889</td>\n",
       "      <td>0.83</td>\n",
       "      <td>14.1036</td>\n",
       "      <td>269</td>\n",
       "      <td>15.8263</td>\n",
       "      <td>1016.41</td>\n",
       "    </tr>\n",
       "    <tr>\n",
       "      <th>2006-04-01 02:00:00</th>\n",
       "      <td>17</td>\n",
       "      <td>0</td>\n",
       "      <td>8.755556</td>\n",
       "      <td>0.83</td>\n",
       "      <td>11.0446</td>\n",
       "      <td>259</td>\n",
       "      <td>15.8263</td>\n",
       "      <td>1016.51</td>\n",
       "    </tr>\n",
       "  </tbody>\n",
       "</table>\n",
       "</div>"
      ],
      "text/plain": [
       "                    Summary  PrecipType  Temperature  Humidity  WindSpeed  \\\n",
       "date                                                                        \n",
       "2006-03-31 22:00:00      19           0     9.472222      0.89    14.1197   \n",
       "2006-03-31 23:00:00      19           0     9.355556      0.86    14.2646   \n",
       "2006-04-01 00:00:00      17           0     9.377778      0.89     3.9284   \n",
       "2006-04-01 01:00:00      19           0     8.288889      0.83    14.1036   \n",
       "2006-04-01 02:00:00      17           0     8.755556      0.83    11.0446   \n",
       "\n",
       "                     WindBearings  Visibilty  Pressure  \n",
       "date                                                    \n",
       "2006-03-31 22:00:00           251    15.8263   1015.13  \n",
       "2006-03-31 23:00:00           259    15.8263   1015.63  \n",
       "2006-04-01 00:00:00           204    14.9569   1015.94  \n",
       "2006-04-01 01:00:00           269    15.8263   1016.41  \n",
       "2006-04-01 02:00:00           259    15.8263   1016.51  "
      ]
     },
     "execution_count": 38,
     "metadata": {},
     "output_type": "execute_result"
    }
   ],
   "source": [
    "df.head()"
   ]
  },
  {
   "cell_type": "code",
   "execution_count": 39,
   "metadata": {},
   "outputs": [
    {
     "name": "stdout",
     "output_type": "stream",
     "text": [
      "-21.82222222\n"
     ]
    },
    {
     "data": {
      "text/plain": [
       "39.90555556"
      ]
     },
     "execution_count": 39,
     "metadata": {},
     "output_type": "execute_result"
    }
   ],
   "source": [
    "data=df.values\n",
    "print(df.Temperature.min())\n",
    "df.Temperature.max()"
   ]
  },
  {
   "cell_type": "code",
   "execution_count": 40,
   "metadata": {},
   "outputs": [],
   "source": [
    "# ensure all data is float\n",
    "data=data.astype('float32')"
   ]
  },
  {
   "cell_type": "code",
   "execution_count": 41,
   "metadata": {},
   "outputs": [
    {
     "data": {
      "text/plain": [
       "array([1.900000e+01, 0.000000e+00, 9.472222e+00, 8.900000e-01,\n",
       "       1.411970e+01, 2.510000e+02, 1.582630e+01, 1.015130e+03],\n",
       "      dtype=float32)"
      ]
     },
     "execution_count": 41,
     "metadata": {},
     "output_type": "execute_result"
    }
   ],
   "source": [
    "# normalize features\n",
    "scaler=MinMaxScaler(feature_range=(0,1))\n",
    "scaled = scaler.fit_transform(data)\n",
    "data[0]"
   ]
  },
  {
   "cell_type": "code",
   "execution_count": 42,
   "metadata": {},
   "outputs": [],
   "source": [
    "# specify no. of lag hours\n",
    "n_hours = 3\n",
    "n_features = 8"
   ]
  },
  {
   "cell_type": "code",
   "execution_count": 43,
   "metadata": {},
   "outputs": [
    {
     "name": "stdout",
     "output_type": "stream",
     "text": [
      "(96450, 32)\n"
     ]
    }
   ],
   "source": [
    "# frame as supervised learning\n",
    "reframed = series_to_supervised(scaled,n_hours,1)\n",
    "print(reframed.shape)"
   ]
  },
  {
   "cell_type": "code",
   "execution_count": 44,
   "metadata": {},
   "outputs": [
    {
     "name": "stdout",
     "output_type": "stream",
     "text": [
      "       var1(t-3)  var2(t-3)  var3(t-3)  var4(t-3)  var5(t-3)  var6(t-3)  \\\n",
      "3       0.730769        0.0   0.506975       0.89   0.221130   0.699164   \n",
      "4       0.730769        0.0   0.505085       0.86   0.223399   0.721448   \n",
      "5       0.653846        0.0   0.505445       0.89   0.061523   0.568245   \n",
      "6       0.730769        0.0   0.487805       0.83   0.220877   0.749304   \n",
      "7       0.653846        0.0   0.495365       0.83   0.172970   0.721448   \n",
      "...          ...        ...        ...        ...        ...        ...   \n",
      "96448   0.730769        0.0   0.857079       0.28   0.217600   0.111421   \n",
      "96449   0.730769        0.0   0.851949       0.28   0.222642   0.066852   \n",
      "96450   0.730769        0.0   0.820718       0.32   0.191125   0.058496   \n",
      "96451   0.730769        0.0   0.774998       0.43   0.172214   0.086351   \n",
      "96452   0.730769        0.0   0.751778       0.48   0.158094   0.055710   \n",
      "\n",
      "       var7(t-3)  var8(t-3)  var1(t-2)  var2(t-2)  ...  var7(t-1)  var8(t-1)  \\\n",
      "3          0.983   0.970135   0.730769        0.0  ...      0.929   0.970909   \n",
      "4          0.983   0.970613   0.653846        0.0  ...      0.983   0.971358   \n",
      "5          0.929   0.970909   0.730769        0.0  ...      0.983   0.971454   \n",
      "6          0.983   0.971358   0.653846        0.0  ...      0.929   0.971597   \n",
      "7          0.983   0.971454   0.730769        0.0  ...      0.620   0.971655   \n",
      "...          ...        ...        ...        ...  ...        ...        ...   \n",
      "96448      1.000   0.969027   0.730769        0.0  ...      1.000   0.969122   \n",
      "96449      0.966   0.968893   0.730769        0.0  ...      1.000   0.969399   \n",
      "96450      1.000   0.969122   0.730769        0.0  ...      0.966   0.970164   \n",
      "96451      1.000   0.969399   0.730769        0.0  ...      1.000   0.970642   \n",
      "96452      0.966   0.970164   0.730769        0.0  ...      1.000   0.970919   \n",
      "\n",
      "        var1(t)  var2(t)   var3(t)  var4(t)   var5(t)   var6(t)  var7(t)  \\\n",
      "3      0.730769      0.0  0.487805     0.83  0.220877  0.749304    0.983   \n",
      "4      0.653846      0.0  0.495365     0.83  0.172970  0.721448    0.983   \n",
      "5      0.730769      0.0  0.502925     0.85  0.218608  0.718663    0.929   \n",
      "6      0.730769      0.0  0.478805     0.95  0.193646  0.721448    0.620   \n",
      "7      0.730769      0.0  0.495635     0.89  0.221634  0.724234    0.620   \n",
      "...         ...      ...       ...      ...       ...       ...      ...   \n",
      "96448  0.730769      0.0  0.774998     0.43  0.172214  0.086351    1.000   \n",
      "96449  0.730769      0.0  0.751778     0.48  0.158094  0.055710    0.966   \n",
      "96450  0.730769      0.0  0.710557     0.56  0.140696  0.083565    1.000   \n",
      "96451  0.730769      0.0  0.702187     0.60  0.164902  0.055710    1.000   \n",
      "96452  0.730769      0.0  0.684637     0.61  0.092032  0.108635    0.964   \n",
      "\n",
      "        var8(t)  \n",
      "3      0.971358  \n",
      "4      0.971454  \n",
      "5      0.971597  \n",
      "6      0.971655  \n",
      "7      0.971769  \n",
      "...         ...  \n",
      "96448  0.969399  \n",
      "96449  0.970164  \n",
      "96450  0.970642  \n",
      "96451  0.970919  \n",
      "96452  0.971119  \n",
      "\n",
      "[96450 rows x 32 columns]\n"
     ]
    }
   ],
   "source": [
    "print(reframed)"
   ]
  },
  {
   "cell_type": "code",
   "execution_count": 45,
   "metadata": {},
   "outputs": [],
   "source": [
    "values = reframed.values"
   ]
  },
  {
   "cell_type": "code",
   "execution_count": 46,
   "metadata": {},
   "outputs": [],
   "source": [
    "n_train_hours=365*24"
   ]
  },
  {
   "cell_type": "code",
   "execution_count": 47,
   "metadata": {},
   "outputs": [],
   "source": [
    "train = values[:n_train_hours,:]\n",
    "test = values[n_train_hours:, : ]"
   ]
  },
  {
   "cell_type": "code",
   "execution_count": 48,
   "metadata": {},
   "outputs": [],
   "source": [
    "# split into input and outputs\n",
    "n_obs = n_hours * n_features\n",
    "train_X,train_Y = train[:,:n_obs],train[:,-6]   # as at 6th no. from last is temp. our o/p var\n",
    "test_X,test_Y = test[:,:n_obs],test[:,-6]"
   ]
  },
  {
   "cell_type": "code",
   "execution_count": 49,
   "metadata": {},
   "outputs": [
    {
     "name": "stdout",
     "output_type": "stream",
     "text": [
      "[0.5386554  0.53757536 0.5223652  ... 0.7105571  0.70218706 0.68463683]\n"
     ]
    }
   ],
   "source": [
    "print(test_Y)"
   ]
  },
  {
   "cell_type": "code",
   "execution_count": 50,
   "metadata": {},
   "outputs": [
    {
     "name": "stdout",
     "output_type": "stream",
     "text": [
      "(8760, 24) 8760 (8760,)\n"
     ]
    }
   ],
   "source": [
    "print(train_X.shape,len(train_X),train_Y.shape)"
   ]
  },
  {
   "cell_type": "code",
   "execution_count": 51,
   "metadata": {},
   "outputs": [
    {
     "name": "stdout",
     "output_type": "stream",
     "text": [
      "(8760, 3, 8) (8760,) (87690, 3, 8) (87690,)\n"
     ]
    }
   ],
   "source": [
    "# reshape input to be 3D [samples, timesteps, fetures]\n",
    "train_X = train_X.reshape((train_X.shape[0],n_hours,n_features))\n",
    "test_X = test_X.reshape((test_X.shape[0],n_hours,n_features))  # 24 = 3 * 8\n",
    "print(train_X.shape, train_Y.shape, test_X.shape, test_Y.shape)"
   ]
  },
  {
   "cell_type": "code",
   "execution_count": 52,
   "metadata": {},
   "outputs": [
    {
     "name": "stderr",
     "output_type": "stream",
     "text": [
      "2023-03-28 00:27:19.568923: I tensorflow/core/platform/cpu_feature_guard.cc:193] This TensorFlow binary is optimized with oneAPI Deep Neural Network Library (oneDNN) to use the following CPU instructions in performance-critical operations:  AVX2 FMA\n",
      "To enable them in other operations, rebuild TensorFlow with the appropriate compiler flags.\n"
     ]
    }
   ],
   "source": [
    "# design network\n",
    "model = Sequential()\n",
    "model.add(LSTM(30, input_shape=(train_X.shape[1], train_X.shape[2])))    # input_shape=(no. of i/p, dimension), result=(1,50)\n",
    "# test\n",
    "model.add(Dense(256,name='FC1'))  #256\n",
    "model.add(Activation('relu'))\n",
    "model.add(Dropout(0.2))\n",
    "# end\n",
    "model.add(Dense(1,name='out_layer'))\n",
    "model.compile(loss='mean_squared_error',optimizer='adam', metrics=['mean_squared_error'])"
   ]
  },
  {
   "cell_type": "code",
   "execution_count": 53,
   "metadata": {},
   "outputs": [
    {
     "name": "stdout",
     "output_type": "stream",
     "text": [
      "Model: \"sequential\"\n",
      "_________________________________________________________________\n",
      " Layer (type)                Output Shape              Param #   \n",
      "=================================================================\n",
      " lstm (LSTM)                 (None, 30)                4680      \n",
      "                                                                 \n",
      " FC1 (Dense)                 (None, 256)               7936      \n",
      "                                                                 \n",
      " activation (Activation)     (None, 256)               0         \n",
      "                                                                 \n",
      " dropout (Dropout)           (None, 256)               0         \n",
      "                                                                 \n",
      " out_layer (Dense)           (None, 1)                 257       \n",
      "                                                                 \n",
      "=================================================================\n",
      "Total params: 12,873\n",
      "Trainable params: 12,873\n",
      "Non-trainable params: 0\n",
      "_________________________________________________________________\n"
     ]
    }
   ],
   "source": [
    "model.summary()"
   ]
  },
  {
   "cell_type": "code",
   "execution_count": 54,
   "metadata": {},
   "outputs": [
    {
     "name": "stdout",
     "output_type": "stream",
     "text": [
      "Epoch 1/100\n",
      "69/69 - 7s - loss: 0.0367 - mean_squared_error: 0.0367 - val_loss: 0.0107 - val_mean_squared_error: 0.0107 - 7s/epoch - 102ms/step\n",
      "Epoch 2/100\n",
      "69/69 - 3s - loss: 0.0126 - mean_squared_error: 0.0126 - val_loss: 0.0121 - val_mean_squared_error: 0.0121 - 3s/epoch - 50ms/step\n",
      "Epoch 3/100\n",
      "69/69 - 3s - loss: 0.0095 - mean_squared_error: 0.0095 - val_loss: 0.0079 - val_mean_squared_error: 0.0079 - 3s/epoch - 38ms/step\n",
      "Epoch 4/100\n",
      "69/69 - 3s - loss: 0.0064 - mean_squared_error: 0.0064 - val_loss: 0.0032 - val_mean_squared_error: 0.0032 - 3s/epoch - 39ms/step\n",
      "Epoch 5/100\n",
      "69/69 - 2s - loss: 0.0044 - mean_squared_error: 0.0044 - val_loss: 0.0022 - val_mean_squared_error: 0.0022 - 2s/epoch - 35ms/step\n",
      "Epoch 6/100\n",
      "69/69 - 3s - loss: 0.0033 - mean_squared_error: 0.0033 - val_loss: 0.0025 - val_mean_squared_error: 0.0025 - 3s/epoch - 46ms/step\n",
      "Epoch 7/100\n",
      "69/69 - 6s - loss: 0.0030 - mean_squared_error: 0.0030 - val_loss: 0.0019 - val_mean_squared_error: 0.0019 - 6s/epoch - 82ms/step\n",
      "Epoch 8/100\n",
      "69/69 - 3s - loss: 0.0027 - mean_squared_error: 0.0027 - val_loss: 0.0023 - val_mean_squared_error: 0.0023 - 3s/epoch - 39ms/step\n",
      "Epoch 9/100\n",
      "69/69 - 3s - loss: 0.0027 - mean_squared_error: 0.0027 - val_loss: 0.0019 - val_mean_squared_error: 0.0019 - 3s/epoch - 43ms/step\n",
      "Epoch 10/100\n",
      "69/69 - 3s - loss: 0.0026 - mean_squared_error: 0.0026 - val_loss: 0.0021 - val_mean_squared_error: 0.0021 - 3s/epoch - 37ms/step\n",
      "Epoch 11/100\n",
      "69/69 - 3s - loss: 0.0027 - mean_squared_error: 0.0027 - val_loss: 0.0018 - val_mean_squared_error: 0.0018 - 3s/epoch - 44ms/step\n",
      "Epoch 12/100\n",
      "69/69 - 4s - loss: 0.0025 - mean_squared_error: 0.0025 - val_loss: 0.0019 - val_mean_squared_error: 0.0019 - 4s/epoch - 62ms/step\n",
      "Epoch 13/100\n",
      "69/69 - 3s - loss: 0.0024 - mean_squared_error: 0.0024 - val_loss: 0.0018 - val_mean_squared_error: 0.0018 - 3s/epoch - 43ms/step\n",
      "Epoch 14/100\n",
      "69/69 - 3s - loss: 0.0024 - mean_squared_error: 0.0024 - val_loss: 0.0019 - val_mean_squared_error: 0.0019 - 3s/epoch - 40ms/step\n",
      "Epoch 15/100\n",
      "69/69 - 3s - loss: 0.0025 - mean_squared_error: 0.0025 - val_loss: 0.0018 - val_mean_squared_error: 0.0018 - 3s/epoch - 43ms/step\n",
      "Epoch 16/100\n",
      "69/69 - 2s - loss: 0.0023 - mean_squared_error: 0.0023 - val_loss: 0.0013 - val_mean_squared_error: 0.0013 - 2s/epoch - 36ms/step\n",
      "Epoch 17/100\n",
      "69/69 - 3s - loss: 0.0022 - mean_squared_error: 0.0022 - val_loss: 0.0016 - val_mean_squared_error: 0.0016 - 3s/epoch - 43ms/step\n",
      "Epoch 18/100\n",
      "69/69 - 3s - loss: 0.0023 - mean_squared_error: 0.0023 - val_loss: 0.0015 - val_mean_squared_error: 0.0015 - 3s/epoch - 44ms/step\n",
      "Epoch 19/100\n",
      "69/69 - 2s - loss: 0.0022 - mean_squared_error: 0.0022 - val_loss: 0.0014 - val_mean_squared_error: 0.0014 - 2s/epoch - 36ms/step\n",
      "Epoch 20/100\n",
      "69/69 - 2s - loss: 0.0021 - mean_squared_error: 0.0021 - val_loss: 0.0014 - val_mean_squared_error: 0.0014 - 2s/epoch - 34ms/step\n",
      "Epoch 21/100\n",
      "69/69 - 2s - loss: 0.0022 - mean_squared_error: 0.0022 - val_loss: 0.0013 - val_mean_squared_error: 0.0013 - 2s/epoch - 36ms/step\n",
      "Epoch 22/100\n",
      "69/69 - 3s - loss: 0.0021 - mean_squared_error: 0.0021 - val_loss: 0.0014 - val_mean_squared_error: 0.0014 - 3s/epoch - 40ms/step\n",
      "Epoch 23/100\n",
      "69/69 - 2s - loss: 0.0023 - mean_squared_error: 0.0023 - val_loss: 0.0013 - val_mean_squared_error: 0.0013 - 2s/epoch - 36ms/step\n",
      "Epoch 24/100\n",
      "69/69 - 3s - loss: 0.0021 - mean_squared_error: 0.0021 - val_loss: 0.0014 - val_mean_squared_error: 0.0014 - 3s/epoch - 39ms/step\n",
      "Epoch 25/100\n",
      "69/69 - 3s - loss: 0.0019 - mean_squared_error: 0.0019 - val_loss: 0.0011 - val_mean_squared_error: 0.0011 - 3s/epoch - 42ms/step\n",
      "Epoch 26/100\n",
      "69/69 - 3s - loss: 0.0018 - mean_squared_error: 0.0018 - val_loss: 0.0011 - val_mean_squared_error: 0.0011 - 3s/epoch - 43ms/step\n",
      "Epoch 27/100\n",
      "69/69 - 3s - loss: 0.0019 - mean_squared_error: 0.0019 - val_loss: 0.0011 - val_mean_squared_error: 0.0011 - 3s/epoch - 37ms/step\n",
      "Epoch 28/100\n",
      "69/69 - 3s - loss: 0.0019 - mean_squared_error: 0.0019 - val_loss: 0.0013 - val_mean_squared_error: 0.0013 - 3s/epoch - 39ms/step\n",
      "Epoch 29/100\n",
      "69/69 - 2s - loss: 0.0019 - mean_squared_error: 0.0019 - val_loss: 0.0011 - val_mean_squared_error: 0.0011 - 2s/epoch - 36ms/step\n",
      "Epoch 30/100\n",
      "69/69 - 3s - loss: 0.0018 - mean_squared_error: 0.0018 - val_loss: 0.0011 - val_mean_squared_error: 0.0011 - 3s/epoch - 37ms/step\n",
      "Epoch 31/100\n",
      "69/69 - 3s - loss: 0.0018 - mean_squared_error: 0.0018 - val_loss: 0.0011 - val_mean_squared_error: 0.0011 - 3s/epoch - 44ms/step\n",
      "Epoch 32/100\n",
      "69/69 - 3s - loss: 0.0019 - mean_squared_error: 0.0019 - val_loss: 0.0011 - val_mean_squared_error: 0.0011 - 3s/epoch - 46ms/step\n",
      "Epoch 33/100\n",
      "69/69 - 3s - loss: 0.0018 - mean_squared_error: 0.0018 - val_loss: 0.0011 - val_mean_squared_error: 0.0011 - 3s/epoch - 36ms/step\n",
      "Epoch 34/100\n",
      "69/69 - 3s - loss: 0.0018 - mean_squared_error: 0.0018 - val_loss: 0.0011 - val_mean_squared_error: 0.0011 - 3s/epoch - 48ms/step\n",
      "Epoch 35/100\n",
      "69/69 - 6s - loss: 0.0017 - mean_squared_error: 0.0017 - val_loss: 0.0010 - val_mean_squared_error: 0.0010 - 6s/epoch - 81ms/step\n",
      "Epoch 36/100\n",
      "69/69 - 3s - loss: 0.0018 - mean_squared_error: 0.0018 - val_loss: 0.0011 - val_mean_squared_error: 0.0011 - 3s/epoch - 43ms/step\n",
      "Epoch 37/100\n",
      "69/69 - 3s - loss: 0.0017 - mean_squared_error: 0.0017 - val_loss: 0.0011 - val_mean_squared_error: 0.0011 - 3s/epoch - 44ms/step\n",
      "Epoch 38/100\n",
      "69/69 - 3s - loss: 0.0018 - mean_squared_error: 0.0018 - val_loss: 0.0011 - val_mean_squared_error: 0.0011 - 3s/epoch - 38ms/step\n",
      "Epoch 39/100\n",
      "69/69 - 6s - loss: 0.0018 - mean_squared_error: 0.0018 - val_loss: 0.0011 - val_mean_squared_error: 0.0011 - 6s/epoch - 80ms/step\n",
      "Epoch 40/100\n",
      "69/69 - 2s - loss: 0.0017 - mean_squared_error: 0.0017 - val_loss: 0.0010 - val_mean_squared_error: 0.0010 - 2s/epoch - 34ms/step\n",
      "Epoch 41/100\n",
      "69/69 - 2s - loss: 0.0016 - mean_squared_error: 0.0016 - val_loss: 9.4774e-04 - val_mean_squared_error: 9.4774e-04 - 2s/epoch - 36ms/step\n",
      "Epoch 42/100\n",
      "69/69 - 3s - loss: 0.0016 - mean_squared_error: 0.0016 - val_loss: 9.1847e-04 - val_mean_squared_error: 9.1847e-04 - 3s/epoch - 41ms/step\n",
      "Epoch 43/100\n",
      "69/69 - 3s - loss: 0.0016 - mean_squared_error: 0.0016 - val_loss: 9.7848e-04 - val_mean_squared_error: 9.7848e-04 - 3s/epoch - 47ms/step\n",
      "Epoch 44/100\n",
      "69/69 - 2s - loss: 0.0015 - mean_squared_error: 0.0015 - val_loss: 9.1535e-04 - val_mean_squared_error: 9.1535e-04 - 2s/epoch - 34ms/step\n",
      "Epoch 45/100\n",
      "69/69 - 2s - loss: 0.0015 - mean_squared_error: 0.0015 - val_loss: 8.4416e-04 - val_mean_squared_error: 8.4416e-04 - 2s/epoch - 34ms/step\n",
      "Epoch 46/100\n",
      "69/69 - 2s - loss: 0.0015 - mean_squared_error: 0.0015 - val_loss: 9.1990e-04 - val_mean_squared_error: 9.1990e-04 - 2s/epoch - 34ms/step\n",
      "Epoch 47/100\n",
      "69/69 - 3s - loss: 0.0016 - mean_squared_error: 0.0016 - val_loss: 0.0011 - val_mean_squared_error: 0.0011 - 3s/epoch - 49ms/step\n",
      "Epoch 48/100\n",
      "69/69 - 2s - loss: 0.0016 - mean_squared_error: 0.0016 - val_loss: 9.5202e-04 - val_mean_squared_error: 9.5202e-04 - 2s/epoch - 31ms/step\n",
      "Epoch 49/100\n",
      "69/69 - 3s - loss: 0.0015 - mean_squared_error: 0.0015 - val_loss: 8.5367e-04 - val_mean_squared_error: 8.5367e-04 - 3s/epoch - 41ms/step\n",
      "Epoch 50/100\n",
      "69/69 - 3s - loss: 0.0015 - mean_squared_error: 0.0015 - val_loss: 9.3707e-04 - val_mean_squared_error: 9.3707e-04 - 3s/epoch - 40ms/step\n",
      "Epoch 51/100\n",
      "69/69 - 3s - loss: 0.0014 - mean_squared_error: 0.0014 - val_loss: 8.7123e-04 - val_mean_squared_error: 8.7123e-04 - 3s/epoch - 37ms/step\n",
      "Epoch 52/100\n",
      "69/69 - 3s - loss: 0.0014 - mean_squared_error: 0.0014 - val_loss: 8.2650e-04 - val_mean_squared_error: 8.2650e-04 - 3s/epoch - 43ms/step\n",
      "Epoch 53/100\n",
      "69/69 - 3s - loss: 0.0014 - mean_squared_error: 0.0014 - val_loss: 8.5348e-04 - val_mean_squared_error: 8.5348e-04 - 3s/epoch - 39ms/step\n",
      "Epoch 54/100\n",
      "69/69 - 3s - loss: 0.0014 - mean_squared_error: 0.0014 - val_loss: 8.6018e-04 - val_mean_squared_error: 8.6018e-04 - 3s/epoch - 44ms/step\n",
      "Epoch 55/100\n",
      "69/69 - 3s - loss: 0.0014 - mean_squared_error: 0.0014 - val_loss: 8.4578e-04 - val_mean_squared_error: 8.4578e-04 - 3s/epoch - 40ms/step\n",
      "Epoch 56/100\n",
      "69/69 - 2s - loss: 0.0014 - mean_squared_error: 0.0014 - val_loss: 7.9548e-04 - val_mean_squared_error: 7.9548e-04 - 2s/epoch - 31ms/step\n",
      "Epoch 57/100\n",
      "69/69 - 3s - loss: 0.0014 - mean_squared_error: 0.0014 - val_loss: 8.7025e-04 - val_mean_squared_error: 8.7025e-04 - 3s/epoch - 38ms/step\n"
     ]
    },
    {
     "name": "stdout",
     "output_type": "stream",
     "text": [
      "Epoch 58/100\n",
      "69/69 - 2s - loss: 0.0015 - mean_squared_error: 0.0015 - val_loss: 8.9923e-04 - val_mean_squared_error: 8.9923e-04 - 2s/epoch - 33ms/step\n",
      "Epoch 59/100\n",
      "69/69 - 2s - loss: 0.0014 - mean_squared_error: 0.0014 - val_loss: 8.3143e-04 - val_mean_squared_error: 8.3143e-04 - 2s/epoch - 36ms/step\n",
      "Epoch 60/100\n",
      "69/69 - 2s - loss: 0.0013 - mean_squared_error: 0.0013 - val_loss: 9.1383e-04 - val_mean_squared_error: 9.1383e-04 - 2s/epoch - 33ms/step\n",
      "Epoch 61/100\n",
      "69/69 - 3s - loss: 0.0014 - mean_squared_error: 0.0014 - val_loss: 8.3066e-04 - val_mean_squared_error: 8.3066e-04 - 3s/epoch - 38ms/step\n",
      "Epoch 62/100\n",
      "69/69 - 3s - loss: 0.0014 - mean_squared_error: 0.0014 - val_loss: 8.3647e-04 - val_mean_squared_error: 8.3647e-04 - 3s/epoch - 46ms/step\n",
      "Epoch 63/100\n",
      "69/69 - 3s - loss: 0.0014 - mean_squared_error: 0.0014 - val_loss: 8.3579e-04 - val_mean_squared_error: 8.3579e-04 - 3s/epoch - 39ms/step\n",
      "Epoch 64/100\n",
      "69/69 - 2s - loss: 0.0014 - mean_squared_error: 0.0014 - val_loss: 7.7160e-04 - val_mean_squared_error: 7.7160e-04 - 2s/epoch - 32ms/step\n",
      "Epoch 65/100\n",
      "69/69 - 2s - loss: 0.0013 - mean_squared_error: 0.0013 - val_loss: 7.8649e-04 - val_mean_squared_error: 7.8649e-04 - 2s/epoch - 34ms/step\n",
      "Epoch 66/100\n",
      "69/69 - 3s - loss: 0.0012 - mean_squared_error: 0.0012 - val_loss: 7.4186e-04 - val_mean_squared_error: 7.4186e-04 - 3s/epoch - 49ms/step\n",
      "Epoch 67/100\n",
      "69/69 - 3s - loss: 0.0012 - mean_squared_error: 0.0012 - val_loss: 7.5539e-04 - val_mean_squared_error: 7.5539e-04 - 3s/epoch - 42ms/step\n",
      "Epoch 68/100\n",
      "69/69 - 4s - loss: 0.0012 - mean_squared_error: 0.0012 - val_loss: 7.7208e-04 - val_mean_squared_error: 7.7208e-04 - 4s/epoch - 52ms/step\n",
      "Epoch 69/100\n",
      "69/69 - 2s - loss: 0.0013 - mean_squared_error: 0.0013 - val_loss: 9.2058e-04 - val_mean_squared_error: 9.2058e-04 - 2s/epoch - 33ms/step\n",
      "Epoch 70/100\n",
      "69/69 - 2s - loss: 0.0014 - mean_squared_error: 0.0014 - val_loss: 7.4394e-04 - val_mean_squared_error: 7.4394e-04 - 2s/epoch - 36ms/step\n",
      "Epoch 71/100\n",
      "69/69 - 2s - loss: 0.0013 - mean_squared_error: 0.0013 - val_loss: 8.3589e-04 - val_mean_squared_error: 8.3589e-04 - 2s/epoch - 36ms/step\n",
      "Epoch 72/100\n",
      "69/69 - 2s - loss: 0.0013 - mean_squared_error: 0.0013 - val_loss: 8.1048e-04 - val_mean_squared_error: 8.1048e-04 - 2s/epoch - 36ms/step\n",
      "Epoch 73/100\n",
      "69/69 - 2s - loss: 0.0013 - mean_squared_error: 0.0013 - val_loss: 7.2468e-04 - val_mean_squared_error: 7.2468e-04 - 2s/epoch - 31ms/step\n",
      "Epoch 74/100\n",
      "69/69 - 2s - loss: 0.0012 - mean_squared_error: 0.0012 - val_loss: 7.3877e-04 - val_mean_squared_error: 7.3877e-04 - 2s/epoch - 31ms/step\n",
      "Epoch 75/100\n",
      "69/69 - 2s - loss: 0.0013 - mean_squared_error: 0.0013 - val_loss: 7.8730e-04 - val_mean_squared_error: 7.8730e-04 - 2s/epoch - 36ms/step\n",
      "Epoch 76/100\n",
      "69/69 - 3s - loss: 0.0013 - mean_squared_error: 0.0013 - val_loss: 8.1375e-04 - val_mean_squared_error: 8.1375e-04 - 3s/epoch - 40ms/step\n",
      "Epoch 77/100\n",
      "69/69 - 2s - loss: 0.0012 - mean_squared_error: 0.0012 - val_loss: 8.1651e-04 - val_mean_squared_error: 8.1651e-04 - 2s/epoch - 36ms/step\n",
      "Epoch 78/100\n",
      "69/69 - 3s - loss: 0.0012 - mean_squared_error: 0.0012 - val_loss: 7.0839e-04 - val_mean_squared_error: 7.0839e-04 - 3s/epoch - 45ms/step\n",
      "Epoch 79/100\n",
      "69/69 - 3s - loss: 0.0012 - mean_squared_error: 0.0012 - val_loss: 7.9388e-04 - val_mean_squared_error: 7.9388e-04 - 3s/epoch - 40ms/step\n",
      "Epoch 80/100\n",
      "69/69 - 3s - loss: 0.0011 - mean_squared_error: 0.0011 - val_loss: 7.4754e-04 - val_mean_squared_error: 7.4754e-04 - 3s/epoch - 47ms/step\n",
      "Epoch 81/100\n",
      "69/69 - 3s - loss: 0.0011 - mean_squared_error: 0.0011 - val_loss: 7.5181e-04 - val_mean_squared_error: 7.5181e-04 - 3s/epoch - 41ms/step\n",
      "Epoch 82/100\n",
      "69/69 - 3s - loss: 0.0011 - mean_squared_error: 0.0011 - val_loss: 7.3611e-04 - val_mean_squared_error: 7.3611e-04 - 3s/epoch - 43ms/step\n",
      "Epoch 83/100\n",
      "69/69 - 3s - loss: 0.0011 - mean_squared_error: 0.0011 - val_loss: 7.6841e-04 - val_mean_squared_error: 7.6841e-04 - 3s/epoch - 43ms/step\n",
      "Epoch 84/100\n",
      "69/69 - 2s - loss: 0.0011 - mean_squared_error: 0.0011 - val_loss: 7.3391e-04 - val_mean_squared_error: 7.3391e-04 - 2s/epoch - 33ms/step\n",
      "Epoch 85/100\n",
      "69/69 - 3s - loss: 0.0011 - mean_squared_error: 0.0011 - val_loss: 7.2143e-04 - val_mean_squared_error: 7.2143e-04 - 3s/epoch - 42ms/step\n",
      "Epoch 86/100\n",
      "69/69 - 3s - loss: 0.0012 - mean_squared_error: 0.0012 - val_loss: 7.7533e-04 - val_mean_squared_error: 7.7533e-04 - 3s/epoch - 50ms/step\n",
      "Epoch 87/100\n",
      "69/69 - 3s - loss: 0.0011 - mean_squared_error: 0.0011 - val_loss: 7.0964e-04 - val_mean_squared_error: 7.0964e-04 - 3s/epoch - 46ms/step\n",
      "Epoch 88/100\n",
      "69/69 - 2s - loss: 0.0011 - mean_squared_error: 0.0011 - val_loss: 6.9338e-04 - val_mean_squared_error: 6.9338e-04 - 2s/epoch - 34ms/step\n",
      "Epoch 89/100\n",
      "69/69 - 3s - loss: 0.0011 - mean_squared_error: 0.0011 - val_loss: 7.7272e-04 - val_mean_squared_error: 7.7272e-04 - 3s/epoch - 45ms/step\n",
      "Epoch 90/100\n",
      "69/69 - 3s - loss: 0.0011 - mean_squared_error: 0.0011 - val_loss: 7.8764e-04 - val_mean_squared_error: 7.8764e-04 - 3s/epoch - 38ms/step\n",
      "Epoch 91/100\n",
      "69/69 - 3s - loss: 0.0011 - mean_squared_error: 0.0011 - val_loss: 7.3989e-04 - val_mean_squared_error: 7.3989e-04 - 3s/epoch - 44ms/step\n",
      "Epoch 92/100\n",
      "69/69 - 3s - loss: 0.0011 - mean_squared_error: 0.0011 - val_loss: 6.6489e-04 - val_mean_squared_error: 6.6489e-04 - 3s/epoch - 39ms/step\n",
      "Epoch 93/100\n",
      "69/69 - 3s - loss: 0.0010 - mean_squared_error: 0.0010 - val_loss: 6.8857e-04 - val_mean_squared_error: 6.8857e-04 - 3s/epoch - 39ms/step\n",
      "Epoch 94/100\n",
      "69/69 - 2s - loss: 0.0011 - mean_squared_error: 0.0011 - val_loss: 7.2144e-04 - val_mean_squared_error: 7.2144e-04 - 2s/epoch - 31ms/step\n",
      "Epoch 95/100\n",
      "69/69 - 3s - loss: 0.0011 - mean_squared_error: 0.0011 - val_loss: 7.2004e-04 - val_mean_squared_error: 7.2004e-04 - 3s/epoch - 43ms/step\n",
      "Epoch 96/100\n",
      "69/69 - 2s - loss: 0.0011 - mean_squared_error: 0.0011 - val_loss: 7.4224e-04 - val_mean_squared_error: 7.4224e-04 - 2s/epoch - 32ms/step\n",
      "Epoch 97/100\n",
      "69/69 - 3s - loss: 0.0011 - mean_squared_error: 0.0011 - val_loss: 7.1686e-04 - val_mean_squared_error: 7.1686e-04 - 3s/epoch - 45ms/step\n",
      "Epoch 98/100\n",
      "69/69 - 3s - loss: 0.0011 - mean_squared_error: 0.0011 - val_loss: 7.0882e-04 - val_mean_squared_error: 7.0882e-04 - 3s/epoch - 46ms/step\n",
      "Epoch 99/100\n",
      "69/69 - 2s - loss: 0.0010 - mean_squared_error: 0.0010 - val_loss: 7.3468e-04 - val_mean_squared_error: 7.3468e-04 - 2s/epoch - 33ms/step\n",
      "Epoch 100/100\n",
      "69/69 - 3s - loss: 0.0010 - mean_squared_error: 0.0010 - val_loss: 6.9046e-04 - val_mean_squared_error: 6.9046e-04 - 3s/epoch - 42ms/step\n"
     ]
    }
   ],
   "source": [
    "# fit network\n",
    "history = model.fit(train_X, train_Y, epochs=100, batch_size=128, validation_data=(test_X, test_Y), verbose=2, shuffle=False)  #, verbose=2, shuffle=False"
   ]
  },
  {
   "cell_type": "code",
   "execution_count": 55,
   "metadata": {},
   "outputs": [
    {
     "data": {
      "image/png": "[encoded data removed]",
      "text/plain": [
       "<Figure size 640x480 with 1 Axes>"
      ]
     },
     "metadata": {},
     "output_type": "display_data"
    }
   ],
   "source": [
    "# plot history\n",
    "pyplot.plot(history.history['loss'], label='train')\n",
    "pyplot.plot(history.history['val_loss'], label='test')\n",
    "pyplot.legend()\n",
    "pyplot.show()"
   ]
  },
  {
   "cell_type": "code",
   "execution_count": 56,
   "metadata": {},
   "outputs": [
    {
     "name": "stdout",
     "output_type": "stream",
     "text": [
      "2741/2741 [==============================] - 9s 3ms/step\n"
     ]
    }
   ],
   "source": [
    "# make a prediction\n",
    "test_Y_predicted = model.predict(test_X)\n",
    "test_X = test_X.reshape((test_X.shape[0], n_hours*n_features))"
   ]
  },
  {
   "cell_type": "code",
   "execution_count": 57,
   "metadata": {},
   "outputs": [
    {
     "name": "stdout",
     "output_type": "stream",
     "text": [
      "[[0.4864283 ]\n",
      " [0.54281664]\n",
      " [0.5491575 ]\n",
      " ...\n",
      " [0.7159203 ]\n",
      " [0.6800176 ]\n",
      " [0.674747  ]]\n",
      "[0.5386554  0.53757536 0.5223652  ... 0.7105571  0.70218706 0.68463683]\n"
     ]
    }
   ],
   "source": [
    "print(test_Y_predicted)\n",
    "print(test_Y)"
   ]
  },
  {
   "cell_type": "code",
   "execution_count": 58,
   "metadata": {},
   "outputs": [
    {
     "data": {
      "text/plain": [
       "<matplotlib.legend.Legend at 0x7fcce64df350>"
      ]
     },
     "execution_count": 58,
     "metadata": {},
     "output_type": "execute_result"
    },
    {
     "data": {
      "image/png": "[encoded data removed]",
      "text/plain": [
       "<Figure size 640x480 with 1 Axes>"
      ]
     },
     "metadata": {},
     "output_type": "display_data"
    }
   ],
   "source": [
    "pyplot.plot(test_Y[:100],label=\"Actual\")\n",
    "pyplot.plot(test_Y_predicted[:100],label=\"Predicted\")\n",
    "pyplot.legend()"
   ]
  },
  {
   "cell_type": "code",
   "execution_count": 59,
   "metadata": {},
   "outputs": [
    {
     "data": {
      "text/plain": [
       "<matplotlib.legend.Legend at 0x7fccd4d58b50>"
      ]
     },
     "execution_count": 59,
     "metadata": {},
     "output_type": "execute_result"
    },
    {
     "data": {
      "image/png": "[encoded data removed]",
      "text/plain": [
       "<Figure size 640x480 with 1 Axes>"
      ]
     },
     "metadata": {},
     "output_type": "display_data"
    }
   ],
   "source": [
    "pyplot.plot(test_Y[200:300],label=\"Actual\")\n",
    "pyplot.plot(test_Y_predicted[200:300],label=\"Predicted\")\n",
    "pyplot.legend()"
   ]
  },
  {
   "cell_type": "code",
   "execution_count": 60,
   "metadata": {},
   "outputs": [
    {
     "name": "stdout",
     "output_type": "stream",
     "text": [
      "[ 8.203914 11.684641 12.076049 ... 22.369947 20.153751 19.82841 ]\n"
     ]
    }
   ],
   "source": [
    "# invert scaling for forecast\n",
    "vir_array= np.concatenate((test_X[:,-8:-6],test_Y_predicted),axis=1)\n",
    "inv_test_Y_predicted = np.concatenate((vir_array,test_X[:,-5:]),axis=1)\n",
    "inv_test_Y_predicted = scaler.inverse_transform(inv_test_Y_predicted)\n",
    "inv_test_Y_predicted = inv_test_Y_predicted[:,2]\n",
    "print(inv_test_Y_predicted)"
   ]
  },
  {
   "cell_type": "code",
   "execution_count": 61,
   "metadata": {},
   "outputs": [
    {
     "name": "stdout",
     "output_type": "stream",
     "text": [
      "[11.427777 11.361109 10.42222  ... 22.038887 21.522223 20.438887]\n"
     ]
    }
   ],
   "source": [
    "# invert scaling for actual\n",
    "test_Y = test_Y.reshape((len(test_Y), 1))\n",
    "vir_array2= np.concatenate((test_X[:,-8:-6],test_Y),axis=1)\n",
    "inv_test_Y = np.concatenate((vir_array2,test_X[:,-5:]),axis=1)\n",
    "inv_test_Y = scaler.inverse_transform(inv_test_Y)\n",
    "inv_test_Y = inv_test_Y[:,2]\n",
    "print(inv_test_Y)"
   ]
  },
  {
   "cell_type": "code",
   "execution_count": 62,
   "metadata": {},
   "outputs": [
    {
     "data": {
      "text/plain": [
       "<matplotlib.legend.Legend at 0x7fccd51be3d0>"
      ]
     },
     "execution_count": 62,
     "metadata": {},
     "output_type": "execute_result"
    },
    {
     "data": {
      "image/png": "[encoded data removed]",
      "text/plain": [
       "<Figure size 640x480 with 1 Axes>"
      ]
     },
     "metadata": {},
     "output_type": "display_data"
    }
   ],
   "source": [
    "pyplot.plot(inv_test_Y[:100],label=\"Actual\")\n",
    "pyplot.plot(inv_test_Y_predicted[:100],label=\"Predicted\")\n",
    "pyplot.legend()"
   ]
  },
  {
   "cell_type": "code",
   "execution_count": 63,
   "metadata": {},
   "outputs": [
    {
     "data": {
      "text/plain": [
       "<matplotlib.legend.Legend at 0x7fccd5c83bd0>"
      ]
     },
     "execution_count": 63,
     "metadata": {},
     "output_type": "execute_result"
    },
    {
     "data": {
      "image/png": "[encoded data removed]",
      "text/plain": [
       "<Figure size 640x480 with 1 Axes>"
      ]
     },
     "metadata": {},
     "output_type": "display_data"
    }
   ],
   "source": [
    "pyplot.plot(inv_test_Y,label=\"Actual\")\n",
    "pyplot.plot(inv_test_Y_predicted,label=\"Predicted\")\n",
    "pyplot.legend()"
   ]
  },
  {
   "cell_type": "code",
   "execution_count": 64,
   "metadata": {},
   "outputs": [
    {
     "name": "stdout",
     "output_type": "stream",
     "text": [
      "Test RMSE: 1.622\n"
     ]
    }
   ],
   "source": [
    "# calculate RMSE\n",
    "from math import sqrt\n",
    "rmse = sqrt(mean_squared_error(inv_test_Y, inv_test_Y_predicted))\n",
    "print('Test RMSE: %.3f' % rmse) "
   ]
  },
  {
   "cell_type": "code",
   "execution_count": 65,
   "metadata": {},
   "outputs": [],
   "source": [
    "# comparing actual temperature and predicted temperature predicted using data of 3 previous hours\n",
    "df_result=pd.DataFrame({'Actual_Temperature':inv_test_Y,'Predicted_Temperature':inv_test_Y_predicted})"
   ]
  },
  {
   "cell_type": "code",
   "execution_count": 66,
   "metadata": {},
   "outputs": [
    {
     "data": {
      "text/html": [
       "<div>\n",
       "<style scoped>\n",
       "    .dataframe tbody tr th:only-of-type {\n",
       "        vertical-align: middle;\n",
       "    }\n",
       "\n",
       "    .dataframe tbody tr th {\n",
       "        vertical-align: top;\n",
       "    }\n",
       "\n",
       "    .dataframe thead th {\n",
       "        text-align: right;\n",
       "    }\n",
       "</style>\n",
       "<table border=\"1\" class=\"dataframe\">\n",
       "  <thead>\n",
       "    <tr style=\"text-align: right;\">\n",
       "      <th></th>\n",
       "      <th>Actual_Temperature</th>\n",
       "      <th>Predicted_Temperature</th>\n",
       "    </tr>\n",
       "  </thead>\n",
       "  <tbody>\n",
       "    <tr>\n",
       "      <th>0</th>\n",
       "      <td>11.427777</td>\n",
       "      <td>8.203914</td>\n",
       "    </tr>\n",
       "    <tr>\n",
       "      <th>1</th>\n",
       "      <td>11.361109</td>\n",
       "      <td>11.684641</td>\n",
       "    </tr>\n",
       "    <tr>\n",
       "      <th>2</th>\n",
       "      <td>10.422220</td>\n",
       "      <td>12.076049</td>\n",
       "    </tr>\n",
       "    <tr>\n",
       "      <th>3</th>\n",
       "      <td>10.833334</td>\n",
       "      <td>10.653778</td>\n",
       "    </tr>\n",
       "    <tr>\n",
       "      <th>4</th>\n",
       "      <td>10.911113</td>\n",
       "      <td>11.881342</td>\n",
       "    </tr>\n",
       "  </tbody>\n",
       "</table>\n",
       "</div>"
      ],
      "text/plain": [
       "   Actual_Temperature  Predicted_Temperature\n",
       "0           11.427777               8.203914\n",
       "1           11.361109              11.684641\n",
       "2           10.422220              12.076049\n",
       "3           10.833334              10.653778\n",
       "4           10.911113              11.881342"
      ]
     },
     "execution_count": 66,
     "metadata": {},
     "output_type": "execute_result"
    }
   ],
   "source": [
    "df_result.head()"
   ]
  },
  {
   "cell_type": "code",
   "execution_count": 67,
   "metadata": {},
   "outputs": [],
   "source": [
    "df_result.to_csv(\"weather_result.csv\")"
   ]
  },
  {
   "cell_type": "code",
   "execution_count": null,
   "metadata": {},
   "outputs": [],
   "source": []
  }
 ],
 "metadata": {
  "kernelspec": {
   "display_name": "Python 3 (ipykernel)",
   "language": "python",
   "name": "python3"
  },
  "language_info": {
   "codemirror_mode": {
    "name": "ipython",
    "version": 3
   },
   "file_extension": ".py",
   "mimetype": "text/x-python",
   "name": "python",
   "nbconvert_exporter": "python",
   "pygments_lexer": "ipython3",
   "version": "3.7.9"
  }
 },
 "nbformat": 4,
 "nbformat_minor": 2
}
